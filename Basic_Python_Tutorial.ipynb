{
  "nbformat": 4,
  "nbformat_minor": 0,
  "metadata": {
    "colab": {
      "name": "Basic Python Tutorial.ipynb",
      "provenance": [],
      "toc_visible": true,
      "authorship_tag": "ABX9TyMoc5z4HUpYXJecbu8Yk/V1",
      "include_colab_link": true
    },
    "kernelspec": {
      "display_name": "Python 3",
      "name": "python3"
    }
  },
  "cells": [
    {
      "cell_type": "markdown",
      "metadata": {
        "id": "view-in-github",
        "colab_type": "text"
      },
      "source": [
        "<a href=\"https://colab.research.google.com/github/sbswapnil/python-course/blob/branch1/Basic_Python_Tutorial.ipynb\" target=\"_parent\"><img src=\"https://colab.research.google.com/assets/colab-badge.svg\" alt=\"Open In Colab\"/></a>"
      ]
    },
    {
      "cell_type": "markdown",
      "metadata": {
        "id": "Bkb1F84VhfxR"
      },
      "source": [
        "# 1) INTRODUCTION\n",
        "\n"
      ]
    },
    {
      "cell_type": "markdown",
      "metadata": {
        "id": "Hnf-QiqSh0WM"
      },
      "source": [
        "## What is Python: \n",
        "\n",
        "**Python** is **open scource general-purpose object-oriented interpreted** programing langauge created by **Guido Van Rossum** in 1991.\n",
        "\n"
      ]
    },
    {
      "cell_type": "markdown",
      "metadata": {
        "id": "T_P3DYX1jAL2"
      },
      "source": [
        "## Characteristics:\n",
        "\n",
        "\n",
        "*   Python is a **Dynamic Type Langauge**.<br>we do not need to assign datatype to a variables.\n",
        "*   It is easy to **learn** and **simple to understand. **\n",
        "*   It is **interpreted** language.\n",
        "*   It takes **very less time** for development.\n",
        "\n",
        "\n",
        "\n"
      ]
    },
    {
      "cell_type": "markdown",
      "metadata": {
        "id": "_HKu-pYpv6wt"
      },
      "source": [
        "#2) FIRST PYTHON PROGRAM"
      ]
    },
    {
      "cell_type": "code",
      "metadata": {
        "colab": {
          "base_uri": "https://localhost:8080/"
        },
        "id": "I-35szkSjLQP",
        "outputId": "804a6d10-6fed-4d47-966b-0338c86607fe"
      },
      "source": [
        "# this program simply prints the hello world in the output.\r\n",
        "print('Hello World !!')\r\n",
        "  "
      ],
      "execution_count": null,
      "outputs": [
        {
          "output_type": "stream",
          "text": [
            "Hello World !!\n"
          ],
          "name": "stdout"
        }
      ]
    },
    {
      "cell_type": "code",
      "metadata": {
        "id": "nK-mRSb8L-hb"
      },
      "source": [
        ""
      ],
      "execution_count": null,
      "outputs": []
    },
    {
      "cell_type": "markdown",
      "metadata": {
        "id": "CyWXtBKvwcVR"
      },
      "source": [
        "# 3) VARIABLE TYPES AND ASSIGNMENTS\r\n",
        "\r\n",
        "### python supports **String**, **Integer**, **Float** and **Boolean** datatypes. "
      ]
    },
    {
      "cell_type": "code",
      "metadata": {
        "colab": {
          "base_uri": "https://localhost:8080/"
        },
        "id": "gNs4n2hSdUic",
        "outputId": "91a1a802-c389-4e0a-eb53-6b235247ec78"
      },
      "source": [
        "roll_number = 12  #interger\r\n",
        "name = 'swapnil'  #string\r\n",
        "marks = 97.23     #float\r\n",
        "ispass = True     #boolean\r\n",
        "\r\n",
        "# we can print multiple variables like given below.\r\n",
        "print(roll_number, name, marks, ispass) "
      ],
      "execution_count": null,
      "outputs": [
        {
          "output_type": "stream",
          "text": [
            "12 swapnil 97.23 True\n"
          ],
          "name": "stdout"
        }
      ]
    },
    {
      "cell_type": "markdown",
      "metadata": {
        "id": "XZ7UM7zpx_v7"
      },
      "source": [
        "## Multiple assignment"
      ]
    },
    {
      "cell_type": "code",
      "metadata": {
        "colab": {
          "base_uri": "https://localhost:8080/"
        },
        "id": "DLgo_YHnxeKw",
        "outputId": "d7ac6ea3-61cf-4dc1-f18f-dea3727ee88b"
      },
      "source": [
        "a=b=1\r\n",
        "\r\n",
        "# value of a is 1 and value for b is also 1\r\n",
        "print(a,b)"
      ],
      "execution_count": null,
      "outputs": [
        {
          "output_type": "stream",
          "text": [
            "1 1\n"
          ],
          "name": "stdout"
        }
      ]
    },
    {
      "cell_type": "code",
      "metadata": {
        "colab": {
          "base_uri": "https://localhost:8080/"
        },
        "id": "5jmxa0oXyHUD",
        "outputId": "520e83d1-9f0e-4d8f-87a8-03cb1d924f8d"
      },
      "source": [
        "a,b=2,'swapnil'\r\n",
        "# value of a is 2 and value for b is swapnil\r\n",
        "print(a,b)"
      ],
      "execution_count": null,
      "outputs": [
        {
          "output_type": "stream",
          "text": [
            "2 swapnil\n"
          ],
          "name": "stdout"
        }
      ]
    },
    {
      "cell_type": "markdown",
      "metadata": {
        "id": "s0cQtIkQyvF-"
      },
      "source": [
        "\r\n",
        "\r\n",
        "```\r\n",
        "# This is formatted as code\r\n",
        "```\r\n",
        "\r\n",
        "# 4) STANDERD DATATYPES\r\n",
        "\r\n",
        "*   **Numbers:** \r\n",
        "*   **String:**\r\n",
        "*   **List:**\r\n",
        "*   **Tuple:**\r\n",
        "*   **Dictionary:** \r\n",
        "\r\n",
        "**Mutable datatypes**:\r\n",
        "\r\n",
        "1.   List\r\n",
        "2.   Sets\r\n",
        "3.   Dictionary\r\n",
        "\r\n",
        "**Immutable datatypes**:\r\n",
        "\r\n",
        "1.   Numeric data types\r\n",
        "2.   Strings\r\n",
        "3.   Tuples\r\n",
        "\r\n",
        "\r\n",
        "we will see what is **mutable** and **immutable** means later in this tutorial.<br> **id()** is a function used to get identity (memory location) of the variable.\r\n"
      ]
    },
    {
      "cell_type": "markdown",
      "metadata": {
        "id": "N6kW0w9M6N_x"
      },
      "source": [
        "## 1) Numbers\r\n",
        "\r\n",
        "*   **Numbers:** python supports four different numerical types: **1)int 2)long 3)float and 4)complex**.\r\n",
        "*   Numbers are **immutable** it means that, we can not change it after it created.\r\n"
      ]
    },
    {
      "cell_type": "code",
      "metadata": {
        "id": "HtXgU5qOyahr"
      },
      "source": [
        "a = 12 #integer\r\n",
        "b = 12.12 #float\r\n",
        "c = 12+12j #complex\r\n",
        "\r\n",
        "d = 12\r\n",
        "# print('Id of variable a', id(a))\r\n",
        "# a=23\r\n",
        "# print('Id of variable d', id(a))"
      ],
      "execution_count": null,
      "outputs": []
    },
    {
      "cell_type": "markdown",
      "metadata": {
        "id": "HOwwaieqrvZd"
      },
      "source": [
        "## 2) Strings\r\n",
        "\r\n",
        "*   Strings are **continuous set of characters.**\r\n",
        "*   String are also **immutable**."
      ]
    },
    {
      "cell_type": "code",
      "metadata": {
        "colab": {
          "base_uri": "https://localhost:8080/"
        },
        "id": "blUGSwQ-rUdD",
        "outputId": "07df46b4-62ee-41f3-b783-a0d1d25e795d"
      },
      "source": [
        "s1 = 'swapnil'\r\n",
        "s2 = s1+' bobe'\r\n",
        "s3 = 'swapnil'\r\n",
        "# print('Id of variable s1', id(s1))\r\n",
        "# print('Id of variable s3', id(s3))\r\n",
        "print(s1,s2, sep=',') # 'sep' parameter used to seperate the arguments in print function."
      ],
      "execution_count": null,
      "outputs": [
        {
          "output_type": "stream",
          "text": [
            "swapnil,swapnil bobe\n"
          ],
          "name": "stdout"
        }
      ]
    },
    {
      "cell_type": "markdown",
      "metadata": {
        "id": "ih--pVT3s1rd"
      },
      "source": [
        "**String slicing**: we can access the part of string.<br>**Example:** s1='swapnil',  we can slice it as s1[start index, end index]\r\n",
        "\r\n",
        "\r\n",
        "*   If we dont want to include starting index we can do that as well like this **s1[:end index]**, so it start from begining of the string.\r\n",
        "*   also, If we dont want to include end index we can do that as well like this **s1[strat index:]**, so it start from given index and ends to the end of the string.\r\n",
        "*   combining above two point we can copy whole string like s1[:]\r\n",
        "\r\n",
        "*   indexing starts from 0.\r\n",
        "\r\n",
        "\r\n",
        "\r\n"
      ]
    },
    {
      "cell_type": "code",
      "metadata": {
        "colab": {
          "base_uri": "https://localhost:8080/"
        },
        "id": "frVIUKIRtI4P",
        "outputId": "03861b7f-0202-4dcf-a99c-e358479168f0"
      },
      "source": [
        "s1 = 'swapnil'\r\n",
        "print(s1[0:2])"
      ],
      "execution_count": null,
      "outputs": [
        {
          "output_type": "stream",
          "text": [
            "sw\n"
          ],
          "name": "stdout"
        }
      ]
    },
    {
      "cell_type": "code",
      "metadata": {
        "colab": {
          "base_uri": "https://localhost:8080/"
        },
        "id": "JhIdE6reu2Ka",
        "outputId": "c23e7518-8252-43e8-eb78-dd3a5755dc3e"
      },
      "source": [
        "print(s1[:3])"
      ],
      "execution_count": null,
      "outputs": [
        {
          "output_type": "stream",
          "text": [
            "swa\n"
          ],
          "name": "stdout"
        }
      ]
    },
    {
      "cell_type": "code",
      "metadata": {
        "colab": {
          "base_uri": "https://localhost:8080/"
        },
        "id": "rovYCaq5u7l0",
        "outputId": "0b47db35-d01a-420a-999a-9e80e27aab5e"
      },
      "source": [
        "print(s1[3:])"
      ],
      "execution_count": null,
      "outputs": [
        {
          "output_type": "stream",
          "text": [
            "pnil\n"
          ],
          "name": "stdout"
        }
      ]
    },
    {
      "cell_type": "code",
      "metadata": {
        "colab": {
          "base_uri": "https://localhost:8080/"
        },
        "id": "GVv0HNr9u-v5",
        "outputId": "8e52758e-f7e3-429a-a8db-e56f5f97e7da"
      },
      "source": [
        "s1copy = s1[:]\r\n",
        "print(s1copy)"
      ],
      "execution_count": null,
      "outputs": [
        {
          "output_type": "stream",
          "text": [
            "swapnil\n"
          ],
          "name": "stdout"
        }
      ]
    },
    {
      "cell_type": "code",
      "metadata": {
        "colab": {
          "base_uri": "https://localhost:8080/"
        },
        "id": "-Hno1EdWwRaK",
        "outputId": "c4930299-9dae-44ea-d5dc-84d285fa8afa"
      },
      "source": [
        "# dir() this function lists all available methods we can use on that perticular variable.\r\n",
        "dir(s1)"
      ],
      "execution_count": null,
      "outputs": [
        {
          "output_type": "execute_result",
          "data": {
            "text/plain": [
              "['__add__',\n",
              " '__class__',\n",
              " '__contains__',\n",
              " '__delattr__',\n",
              " '__dir__',\n",
              " '__doc__',\n",
              " '__eq__',\n",
              " '__format__',\n",
              " '__ge__',\n",
              " '__getattribute__',\n",
              " '__getitem__',\n",
              " '__getnewargs__',\n",
              " '__gt__',\n",
              " '__hash__',\n",
              " '__init__',\n",
              " '__init_subclass__',\n",
              " '__iter__',\n",
              " '__le__',\n",
              " '__len__',\n",
              " '__lt__',\n",
              " '__mod__',\n",
              " '__mul__',\n",
              " '__ne__',\n",
              " '__new__',\n",
              " '__reduce__',\n",
              " '__reduce_ex__',\n",
              " '__repr__',\n",
              " '__rmod__',\n",
              " '__rmul__',\n",
              " '__setattr__',\n",
              " '__sizeof__',\n",
              " '__str__',\n",
              " '__subclasshook__',\n",
              " 'capitalize',\n",
              " 'casefold',\n",
              " 'center',\n",
              " 'count',\n",
              " 'encode',\n",
              " 'endswith',\n",
              " 'expandtabs',\n",
              " 'find',\n",
              " 'format',\n",
              " 'format_map',\n",
              " 'index',\n",
              " 'isalnum',\n",
              " 'isalpha',\n",
              " 'isdecimal',\n",
              " 'isdigit',\n",
              " 'isidentifier',\n",
              " 'islower',\n",
              " 'isnumeric',\n",
              " 'isprintable',\n",
              " 'isspace',\n",
              " 'istitle',\n",
              " 'isupper',\n",
              " 'join',\n",
              " 'ljust',\n",
              " 'lower',\n",
              " 'lstrip',\n",
              " 'maketrans',\n",
              " 'partition',\n",
              " 'replace',\n",
              " 'rfind',\n",
              " 'rindex',\n",
              " 'rjust',\n",
              " 'rpartition',\n",
              " 'rsplit',\n",
              " 'rstrip',\n",
              " 'split',\n",
              " 'splitlines',\n",
              " 'startswith',\n",
              " 'strip',\n",
              " 'swapcase',\n",
              " 'title',\n",
              " 'translate',\n",
              " 'upper',\n",
              " 'zfill']"
            ]
          },
          "metadata": {
            "tags": []
          },
          "execution_count": 50
        }
      ]
    },
    {
      "cell_type": "markdown",
      "metadata": {
        "id": "fFKW322gstBt"
      },
      "source": [
        "## 3) List\r\n",
        "*   It is collection of diffrent datatypes. \r\n",
        "*   List are **mutable**.\r\n",
        "*   we can create list with list() or []."
      ]
    },
    {
      "cell_type": "code",
      "metadata": {
        "colab": {
          "base_uri": "https://localhost:8080/"
        },
        "id": "PFPfrdqzprJ7",
        "outputId": "4692f97d-93d4-40ea-c89b-e1133717fbab"
      },
      "source": [
        "# creating list\r\n",
        "l = [1,2,'swapnil', 2+3j]\r\n",
        "print(l)"
      ],
      "execution_count": null,
      "outputs": [
        {
          "output_type": "stream",
          "text": [
            "[1, 2, 'swapnil', (2+3j)]\n"
          ],
          "name": "stdout"
        }
      ]
    },
    {
      "cell_type": "code",
      "metadata": {
        "colab": {
          "base_uri": "https://localhost:8080/"
        },
        "id": "Yb-7HoDcp261",
        "outputId": "9150ceb1-4d55-4a85-b25c-d865e6055545"
      },
      "source": [
        "# we can also use  slicing on lists\r\n",
        "\r\n",
        "print(l[0:3])\r\n",
        "print(l[2:])\r\n",
        "print(l[:])"
      ],
      "execution_count": null,
      "outputs": [
        {
          "output_type": "stream",
          "text": [
            "[1, 2, 'swapnil']\n",
            "['swapnil', (2+3j)]\n",
            "[1, 2, 'swapnil', (2+3j)]\n"
          ],
          "name": "stdout"
        }
      ]
    },
    {
      "cell_type": "code",
      "metadata": {
        "colab": {
          "base_uri": "https://localhost:8080/"
        },
        "id": "ZlSTVX-xEroA",
        "outputId": "0b7c8289-4172-4d85-abb5-ceebecee528c"
      },
      "source": [
        "# list concatination\r\n",
        "l1 = [1,2,3,4]\r\n",
        "l2 = [5,6,7,8]\r\n",
        "l = l1+l2\r\n",
        "print(l)\r\n",
        "print(l1*2)"
      ],
      "execution_count": null,
      "outputs": [
        {
          "output_type": "stream",
          "text": [
            "[1, 2, 3, 4, 5, 6, 7, 8]\n",
            "[1, 2, 3, 4, 1, 2, 3, 4]\n"
          ],
          "name": "stdout"
        }
      ]
    },
    {
      "cell_type": "code",
      "metadata": {
        "colab": {
          "base_uri": "https://localhost:8080/"
        },
        "id": "CiNy18z10_M6",
        "outputId": "c27e10e3-e7bb-40c8-a3b4-4bffb09aadc9"
      },
      "source": [
        "# assigning values to the list\r\n",
        "\r\n",
        "l[0]='abc' # value abc is assign to the 0th position of list\r\n",
        "print(l)"
      ],
      "execution_count": null,
      "outputs": [
        {
          "output_type": "stream",
          "text": [
            "['abc', 2, 3, 4, 5, 6, 7, 8]\n"
          ],
          "name": "stdout"
        }
      ]
    },
    {
      "cell_type": "code",
      "metadata": {
        "colab": {
          "base_uri": "https://localhost:8080/"
        },
        "id": "SpvZpQFtCwE4",
        "outputId": "a1551c3f-4a95-4b7d-d02a-5fc75dd5b7dc"
      },
      "source": [
        "# deleting value  from list\r\n",
        "del l[1] # 2 will be deleted\r\n",
        "print(l)\r\n"
      ],
      "execution_count": null,
      "outputs": [
        {
          "output_type": "stream",
          "text": [
            "['abc', 3, 4, 5, 6, 7, 8]\n"
          ],
          "name": "stdout"
        }
      ]
    },
    {
      "cell_type": "code",
      "metadata": {
        "colab": {
          "base_uri": "https://localhost:8080/"
        },
        "id": "EDmhtPd4PcdT",
        "outputId": "b887861e-1c7e-4a01-eb4c-e50277cee42b"
      },
      "source": [
        "#  list inside list\r\n",
        "\r\n",
        "l = [1,2,3,[4,5,6], 7, [8,9]]\r\n",
        "print(l)"
      ],
      "execution_count": null,
      "outputs": [
        {
          "output_type": "stream",
          "text": [
            "[1, 2, 3, [4, 5, 6], 7, [8, 9]]\n"
          ],
          "name": "stdout"
        }
      ]
    },
    {
      "cell_type": "code",
      "metadata": {
        "colab": {
          "base_uri": "https://localhost:8080/"
        },
        "id": "-QYnOhYSPo-D",
        "outputId": "a3c3c884-a25e-45eb-d2a7-7c9cfd1a12b9"
      },
      "source": [
        "print(l[3]) # prints [4,5,6] list"
      ],
      "execution_count": null,
      "outputs": [
        {
          "output_type": "stream",
          "text": [
            "[4, 5, 6]\n"
          ],
          "name": "stdout"
        }
      ]
    },
    {
      "cell_type": "code",
      "metadata": {
        "colab": {
          "base_uri": "https://localhost:8080/"
        },
        "id": "STtRT80pP4-x",
        "outputId": "bbecd95b-f06a-4213-b164-f109faa21601"
      },
      "source": [
        "# access elemets fromlist which is inside of the another list\r\n",
        "print(l[3][0]) # prints 4"
      ],
      "execution_count": null,
      "outputs": [
        {
          "output_type": "stream",
          "text": [
            "4\n"
          ],
          "name": "stdout"
        }
      ]
    },
    {
      "cell_type": "code",
      "metadata": {
        "colab": {
          "base_uri": "https://localhost:8080/"
        },
        "id": "mXKO93y9DNqP",
        "outputId": "3fabfd5c-fe87-41d7-e16a-1fa4245f2ac9"
      },
      "source": [
        "dir(list()) # lists all the methods available for list"
      ],
      "execution_count": null,
      "outputs": [
        {
          "output_type": "execute_result",
          "data": {
            "text/plain": [
              "['__add__',\n",
              " '__class__',\n",
              " '__contains__',\n",
              " '__delattr__',\n",
              " '__delitem__',\n",
              " '__dir__',\n",
              " '__doc__',\n",
              " '__eq__',\n",
              " '__format__',\n",
              " '__ge__',\n",
              " '__getattribute__',\n",
              " '__getitem__',\n",
              " '__gt__',\n",
              " '__hash__',\n",
              " '__iadd__',\n",
              " '__imul__',\n",
              " '__init__',\n",
              " '__init_subclass__',\n",
              " '__iter__',\n",
              " '__le__',\n",
              " '__len__',\n",
              " '__lt__',\n",
              " '__mul__',\n",
              " '__ne__',\n",
              " '__new__',\n",
              " '__reduce__',\n",
              " '__reduce_ex__',\n",
              " '__repr__',\n",
              " '__reversed__',\n",
              " '__rmul__',\n",
              " '__setattr__',\n",
              " '__setitem__',\n",
              " '__sizeof__',\n",
              " '__str__',\n",
              " '__subclasshook__',\n",
              " 'append',\n",
              " 'clear',\n",
              " 'copy',\n",
              " 'count',\n",
              " 'extend',\n",
              " 'index',\n",
              " 'insert',\n",
              " 'pop',\n",
              " 'remove',\n",
              " 'reverse',\n",
              " 'sort']"
            ]
          },
          "metadata": {
            "tags": []
          },
          "execution_count": 59
        }
      ]
    },
    {
      "cell_type": "code",
      "metadata": {
        "colab": {
          "base_uri": "https://localhost:8080/"
        },
        "id": "numc8RaTzH5a",
        "outputId": "4d82c17f-eb4f-479d-d269-1d1a1f26e9b7"
      },
      "source": [
        "# append\r\n",
        "\r\n",
        "print(l)\r\n",
        "l.append(12)\r\n",
        "print(l)"
      ],
      "execution_count": null,
      "outputs": [
        {
          "output_type": "stream",
          "text": [
            "[1, 2, 3, [4, 5, 6], 7, [8, 9]]\n",
            "[1, 2, 3, [4, 5, 6], 7, [8, 9], 12]\n"
          ],
          "name": "stdout"
        }
      ]
    },
    {
      "cell_type": "code",
      "metadata": {
        "colab": {
          "base_uri": "https://localhost:8080/"
        },
        "id": "uA3bpIwYzcOl",
        "outputId": "a6bdd9c6-f6dd-4d2d-ffca-2aa1563e365f"
      },
      "source": [
        "# clear\r\n",
        "\r\n",
        "l.clear()  # clears the list.\r\n",
        "print(l)"
      ],
      "execution_count": null,
      "outputs": [
        {
          "output_type": "stream",
          "text": [
            "[]\n"
          ],
          "name": "stdout"
        }
      ]
    },
    {
      "cell_type": "code",
      "metadata": {
        "colab": {
          "base_uri": "https://localhost:8080/"
        },
        "id": "jB_5GIb6zkrN",
        "outputId": "e1c3fac9-3820-44a6-e5c3-8ad91eb8a500"
      },
      "source": [
        "# copy\r\n",
        "\r\n",
        "l = [1, 2, 3, [4, 5, 6], 7, [8, 9]]\r\n",
        "lcopy = l.copy() # its copies the whole list\r\n",
        "print(lcopy)\r\n"
      ],
      "execution_count": null,
      "outputs": [
        {
          "output_type": "stream",
          "text": [
            "[1, 2, 3, [4, 5, 6], 7, [8, 9]]\n",
            "140090895094984\n",
            "140090896124104\n"
          ],
          "name": "stdout"
        }
      ]
    },
    {
      "cell_type": "code",
      "metadata": {
        "colab": {
          "base_uri": "https://localhost:8080/"
        },
        "id": "1uec15A7zlVi",
        "outputId": "6fa12edb-83b6-4852-f64a-df1671e0fc5e"
      },
      "source": [
        "# count\r\n",
        "\r\n",
        "l = [1, 2, 3, 4, 5, 3, 5, 2, 1]\r\n",
        "print(l.count(5)) # prints count of given elemet from list.\r\n"
      ],
      "execution_count": null,
      "outputs": [
        {
          "output_type": "stream",
          "text": [
            "2\n"
          ],
          "name": "stdout"
        }
      ]
    },
    {
      "cell_type": "code",
      "metadata": {
        "colab": {
          "base_uri": "https://localhost:8080/"
        },
        "id": "GeRhRXgfzl4P",
        "outputId": "8bc90f06-6551-409d-c70a-d48b0591aab4"
      },
      "source": [
        "# extends\r\n",
        "\r\n",
        "l = [1, 2, 3, 4, 5, 3, 5, 2, 1]\r\n",
        "l1 = [11, 22, 33, 44]\r\n",
        "\r\n",
        "l.extend(l1) # its extends the sequence of elements to current list.\r\n",
        "print(l)"
      ],
      "execution_count": null,
      "outputs": [
        {
          "output_type": "stream",
          "text": [
            "[1, 2, 3, 4, 5, 3, 5, 2, 1, 11, 22, 33, 44]\n"
          ],
          "name": "stdout"
        }
      ]
    },
    {
      "cell_type": "code",
      "metadata": {
        "colab": {
          "base_uri": "https://localhost:8080/"
        },
        "id": "OTHldWmHzmmq",
        "outputId": "bc26e865-9114-45ed-996a-25f3d07cbb72"
      },
      "source": [
        "# index\r\n",
        "\r\n",
        "l = [1, 2, 3, [4, 5, 6], 7, [8, 9]]\r\n",
        "print(l.index(2)) # returns the index of given element.\r\n"
      ],
      "execution_count": null,
      "outputs": [
        {
          "output_type": "stream",
          "text": [
            "1\n"
          ],
          "name": "stdout"
        }
      ]
    },
    {
      "cell_type": "code",
      "metadata": {
        "colab": {
          "base_uri": "https://localhost:8080/"
        },
        "id": "ODzl_U2nzm00",
        "outputId": "9c411070-49e8-4457-fd8d-1bbb93b34c96"
      },
      "source": [
        "# insert\r\n",
        "\r\n",
        "l = [1, 2, 3, [4, 5, 6], 7, [8, 9]]\r\n",
        "l.insert(2, 33)  # position , value inserts the givent element at perticular position.\r\n",
        "print(l)"
      ],
      "execution_count": null,
      "outputs": [
        {
          "output_type": "stream",
          "text": [
            "[1, 2, 33, 3, [4, 5, 6], 7, [8, 9]]\n"
          ],
          "name": "stdout"
        }
      ]
    },
    {
      "cell_type": "code",
      "metadata": {
        "colab": {
          "base_uri": "https://localhost:8080/"
        },
        "id": "grEudfmfznDL",
        "outputId": "461e9336-e052-432c-90c5-7ad4c825dc2a"
      },
      "source": [
        "# pop\r\n",
        "\r\n",
        "l = [1, 2, 3, [4, 5, 6], 7, [8, 9]]\r\n",
        "print(l.pop()) # pops last element of list\r\n",
        "print(l)\r\n"
      ],
      "execution_count": null,
      "outputs": [
        {
          "output_type": "stream",
          "text": [
            "[8, 9]\n",
            "[1, 2, 3, [4, 5, 6], 7]\n"
          ],
          "name": "stdout"
        }
      ]
    },
    {
      "cell_type": "code",
      "metadata": {
        "colab": {
          "base_uri": "https://localhost:8080/"
        },
        "id": "moWf_xaP0Vek",
        "outputId": "e4cf1f97-b015-4e01-e8b0-55fbd745f7c9"
      },
      "source": [
        "# remove\r\n",
        "\r\n",
        "l = [1, 2, 3, [4, 5, 6], 7, [8, 9]]\r\n",
        "l.remove(2) # removes first occurence of given element\r\n",
        "print(l)"
      ],
      "execution_count": null,
      "outputs": [
        {
          "output_type": "stream",
          "text": [
            "[1, 3, [4, 5, 6], 7, [8, 9]]\n"
          ],
          "name": "stdout"
        }
      ]
    },
    {
      "cell_type": "code",
      "metadata": {
        "colab": {
          "base_uri": "https://localhost:8080/"
        },
        "id": "Fa3QTMlu0YGy",
        "outputId": "49a0b7ab-f4d3-4fa0-bfdf-8c4096dbe4be"
      },
      "source": [
        "# reverse\r\n",
        "\r\n",
        "l = [1, 2, 3, [4, 5, 6], 7, [8, 9]]\r\n",
        "l.reverse() # revesre the list and returns none\r\n",
        "print(l)"
      ],
      "execution_count": null,
      "outputs": [
        {
          "output_type": "stream",
          "text": [
            "[[8, 9], 7, [4, 5, 6], 3, 2, 1]\n"
          ],
          "name": "stdout"
        }
      ]
    },
    {
      "cell_type": "code",
      "metadata": {
        "colab": {
          "base_uri": "https://localhost:8080/"
        },
        "id": "J4B079HO0YnK",
        "outputId": "b508b6b7-65f9-4bcb-96d3-9daac4c8d17a"
      },
      "source": [
        "# sort\r\n",
        "\r\n",
        "l = [51, 22, 34, 4, 35, 62, 72, 83, 95]\r\n",
        "l.sort() # sorts the list and returns none\r\n",
        "print(l)"
      ],
      "execution_count": null,
      "outputs": [
        {
          "output_type": "stream",
          "text": [
            "[4, 22, 34, 35, 51, 62, 72, 83, 95]\n"
          ],
          "name": "stdout"
        }
      ]
    },
    {
      "cell_type": "markdown",
      "metadata": {
        "id": "u-Xx7IJaXntF"
      },
      "source": [
        "## 4)**Tuples**\r\n",
        "\r\n",
        "*    It is also collection of diffrent types of datatypes.\r\n",
        "*    Tuples are **immutable**.\r\n",
        "*    we can create tuples with tuple() or ()."
      ]
    },
    {
      "cell_type": "code",
      "metadata": {
        "colab": {
          "base_uri": "https://localhost:8080/"
        },
        "id": "xqbk_wlkbCBo",
        "outputId": "0c02d71a-c637-490b-fec4-5ed851f2c2c8"
      },
      "source": [
        "t = (1,2,3)\r\n",
        "print(t)"
      ],
      "execution_count": null,
      "outputs": [
        {
          "output_type": "stream",
          "text": [
            "(1, 2, 3)\n"
          ],
          "name": "stdout"
        }
      ]
    },
    {
      "cell_type": "code",
      "metadata": {
        "colab": {
          "base_uri": "https://localhost:8080/"
        },
        "id": "07vwe-b_Dd3l",
        "outputId": "74571fe8-9d6f-47ef-de81-e669a27f7413"
      },
      "source": [
        "# creating tuple with single value\r\n",
        "t = 5,\r\n",
        "print(t,type(t))"
      ],
      "execution_count": null,
      "outputs": [
        {
          "output_type": "stream",
          "text": [
            "(5,) <class 'tuple'>\n"
          ],
          "name": "stdout"
        }
      ]
    },
    {
      "cell_type": "code",
      "metadata": {
        "colab": {
          "base_uri": "https://localhost:8080/"
        },
        "id": "4BspgR-rDlwc",
        "outputId": "31094b8b-e67e-4162-c16d-008d3ad662a3"
      },
      "source": [
        "# creating empty tuple\r\n",
        "t = ()\r\n",
        "print(type(t))"
      ],
      "execution_count": null,
      "outputs": [
        {
          "output_type": "stream",
          "text": [
            "<class 'tuple'>\n"
          ],
          "name": "stdout"
        }
      ]
    },
    {
      "cell_type": "markdown",
      "metadata": {
        "id": "1R8NLMAgD_E9"
      },
      "source": [
        "we can also perform slicing on tuple.<br>\r\n",
        "but we can not assign values to the perticular index like list"
      ]
    },
    {
      "cell_type": "code",
      "metadata": {
        "colab": {
          "base_uri": "https://localhost:8080/"
        },
        "id": "UcWC6Y0VDtrE",
        "outputId": "dcb639a7-87f6-4a58-ff7b-54fa4f73f186"
      },
      "source": [
        "t = (1,2,3,4,5)\r\n",
        "print(t[0:3])\r\n",
        "print(t[3:])\r\n",
        "print(t[:])\r\n"
      ],
      "execution_count": null,
      "outputs": [
        {
          "output_type": "stream",
          "text": [
            "(1, 2, 3)\n",
            "(4, 5)\n",
            "(1, 2, 3, 4, 5)\n"
          ],
          "name": "stdout"
        }
      ]
    },
    {
      "cell_type": "code",
      "metadata": {
        "colab": {
          "base_uri": "https://localhost:8080/"
        },
        "id": "IXkP0QdMEMNs",
        "outputId": "5338ecfd-77c4-4537-ef4e-55a20571fd50"
      },
      "source": [
        "# tuple concatination\r\n",
        "\r\n",
        "t1 = (1,2,3,4,5)\r\n",
        "t2 = (5,6,7,8)\r\n",
        "t = t1+t2\r\n",
        "print(t)\r\n"
      ],
      "execution_count": null,
      "outputs": [
        {
          "output_type": "stream",
          "text": [
            "(1, 2, 3, 4, 5, 5, 6, 7, 8)\n"
          ],
          "name": "stdout"
        }
      ]
    },
    {
      "cell_type": "code",
      "metadata": {
        "colab": {
          "base_uri": "https://localhost:8080/"
        },
        "id": "yp99nGilFOrs",
        "outputId": "c325393e-0c21-4160-a5af-04ba9f44bb4e"
      },
      "source": [
        "dir(tuple())"
      ],
      "execution_count": null,
      "outputs": [
        {
          "output_type": "execute_result",
          "data": {
            "text/plain": [
              "['__add__',\n",
              " '__class__',\n",
              " '__contains__',\n",
              " '__delattr__',\n",
              " '__dir__',\n",
              " '__doc__',\n",
              " '__eq__',\n",
              " '__format__',\n",
              " '__ge__',\n",
              " '__getattribute__',\n",
              " '__getitem__',\n",
              " '__getnewargs__',\n",
              " '__gt__',\n",
              " '__hash__',\n",
              " '__init__',\n",
              " '__init_subclass__',\n",
              " '__iter__',\n",
              " '__le__',\n",
              " '__len__',\n",
              " '__lt__',\n",
              " '__mul__',\n",
              " '__ne__',\n",
              " '__new__',\n",
              " '__reduce__',\n",
              " '__reduce_ex__',\n",
              " '__repr__',\n",
              " '__rmul__',\n",
              " '__setattr__',\n",
              " '__sizeof__',\n",
              " '__str__',\n",
              " '__subclasshook__',\n",
              " 'count',\n",
              " 'index']"
            ]
          },
          "metadata": {
            "tags": []
          },
          "execution_count": 66
        }
      ]
    },
    {
      "cell_type": "code",
      "metadata": {
        "colab": {
          "base_uri": "https://localhost:8080/"
        },
        "id": "6n1W1f0T4IO8",
        "outputId": "2d2116db-28a4-4354-f813-d7d0c8999fba"
      },
      "source": [
        "# count\r\n",
        "\r\n",
        "print(t1.count(1))"
      ],
      "execution_count": null,
      "outputs": [
        {
          "output_type": "stream",
          "text": [
            "1\n"
          ],
          "name": "stdout"
        }
      ]
    },
    {
      "cell_type": "code",
      "metadata": {
        "colab": {
          "base_uri": "https://localhost:8080/"
        },
        "id": "JKZkLbM94Pjo",
        "outputId": "86c26942-5297-4934-ab3c-2a5cfdd47809"
      },
      "source": [
        "# index\r\n",
        "\r\n",
        "print(t1.index(3))"
      ],
      "execution_count": null,
      "outputs": [
        {
          "output_type": "stream",
          "text": [
            "2\n"
          ],
          "name": "stdout"
        }
      ]
    },
    {
      "cell_type": "markdown",
      "metadata": {
        "id": "aNQKihJkGH1b"
      },
      "source": [
        "## 5) **Dictionary**\r\n",
        "\r\n",
        "*   **Dictionary** consist of key value pairs.\r\n",
        "*   Dictionary is a **mutable** datatype.\r\n",
        "*   we can create them using {}.\r\n",
        "\r\n"
      ]
    },
    {
      "cell_type": "code",
      "metadata": {
        "colab": {
          "base_uri": "https://localhost:8080/"
        },
        "id": "cm0MdqzvFbD8",
        "outputId": "deb5e841-94bf-4788-f708-f19050819041"
      },
      "source": [
        "d = {'roll_number':12, 'name':'swapnil', 'age':24}\r\n",
        "print(d)"
      ],
      "execution_count": null,
      "outputs": [
        {
          "output_type": "stream",
          "text": [
            "{'roll_number': 12, 'name': 'swapnil', 'age': 24}\n"
          ],
          "name": "stdout"
        }
      ]
    },
    {
      "cell_type": "code",
      "metadata": {
        "colab": {
          "base_uri": "https://localhost:8080/"
        },
        "id": "zcZgRPeLHN4O",
        "outputId": "89474630-7fcc-4257-c51a-1033474c2cf7"
      },
      "source": [
        "# indexing using keys  \r\n",
        "\r\n",
        "print(d['age'])\r\n",
        "print(d['name'])"
      ],
      "execution_count": null,
      "outputs": [
        {
          "output_type": "stream",
          "text": [
            "24\n",
            "swapnil\n"
          ],
          "name": "stdout"
        }
      ]
    },
    {
      "cell_type": "code",
      "metadata": {
        "colab": {
          "base_uri": "https://localhost:8080/"
        },
        "id": "A483A7moHcA8",
        "outputId": "eed491e0-94bc-4cd9-87fa-702e3d35612d"
      },
      "source": [
        "# assignment\r\n",
        "\r\n",
        "print(d['age']) #before\r\n",
        "d['age']=30\r\n",
        "print(d['age']) #after"
      ],
      "execution_count": null,
      "outputs": [
        {
          "output_type": "stream",
          "text": [
            "24\n",
            "30\n"
          ],
          "name": "stdout"
        }
      ]
    },
    {
      "cell_type": "code",
      "metadata": {
        "colab": {
          "base_uri": "https://localhost:8080/"
        },
        "id": "KysxHpA9Hmp8",
        "outputId": "06d6d08a-c560-4dbd-874e-12c63e177efb"
      },
      "source": [
        "dir({})"
      ],
      "execution_count": null,
      "outputs": [
        {
          "output_type": "execute_result",
          "data": {
            "text/plain": [
              "['__class__',\n",
              " '__contains__',\n",
              " '__delattr__',\n",
              " '__delitem__',\n",
              " '__dir__',\n",
              " '__doc__',\n",
              " '__eq__',\n",
              " '__format__',\n",
              " '__ge__',\n",
              " '__getattribute__',\n",
              " '__getitem__',\n",
              " '__gt__',\n",
              " '__hash__',\n",
              " '__init__',\n",
              " '__init_subclass__',\n",
              " '__iter__',\n",
              " '__le__',\n",
              " '__len__',\n",
              " '__lt__',\n",
              " '__ne__',\n",
              " '__new__',\n",
              " '__reduce__',\n",
              " '__reduce_ex__',\n",
              " '__repr__',\n",
              " '__setattr__',\n",
              " '__setitem__',\n",
              " '__sizeof__',\n",
              " '__str__',\n",
              " '__subclasshook__',\n",
              " 'clear',\n",
              " 'copy',\n",
              " 'fromkeys',\n",
              " 'get',\n",
              " 'items',\n",
              " 'keys',\n",
              " 'pop',\n",
              " 'popitem',\n",
              " 'setdefault',\n",
              " 'update',\n",
              " 'values']"
            ]
          },
          "metadata": {
            "tags": []
          },
          "execution_count": 73
        }
      ]
    },
    {
      "cell_type": "code",
      "metadata": {
        "colab": {
          "base_uri": "https://localhost:8080/"
        },
        "id": "Av2TU5YGInR7",
        "outputId": "2d132643-db45-4789-ae77-2a4386af80e1"
      },
      "source": [
        "# keys\r\n",
        "\r\n",
        "d = {'roll_number':12, 'name':'swapnil', 'age':24}\r\n",
        "keys = d.keys()\r\n",
        "print(keys)"
      ],
      "execution_count": null,
      "outputs": [
        {
          "output_type": "stream",
          "text": [
            "dict_keys(['roll_number', 'name', 'age'])\n"
          ],
          "name": "stdout"
        }
      ]
    },
    {
      "cell_type": "code",
      "metadata": {
        "colab": {
          "base_uri": "https://localhost:8080/"
        },
        "id": "tE87d8k4IzDl",
        "outputId": "464e800a-73d8-463e-9180-6ac9f1ab4091"
      },
      "source": [
        "# values\r\n",
        "\r\n",
        "d = {'roll_number':12, 'name':'swapnil', 'age':24}\r\n",
        "values = d.values()\r\n",
        "print(values)"
      ],
      "execution_count": null,
      "outputs": [
        {
          "output_type": "stream",
          "text": [
            "dict_values([12, 'swapnil', 30])\n"
          ],
          "name": "stdout"
        }
      ]
    },
    {
      "cell_type": "code",
      "metadata": {
        "colab": {
          "base_uri": "https://localhost:8080/"
        },
        "id": "YnAfHGvzI5qz",
        "outputId": "5ec9acbf-afd8-4b39-d3e2-44cf1857d295"
      },
      "source": [
        "# items\r\n",
        "\r\n",
        "d = {'roll_number':12, 'name':'swapnil', 'age':24}\r\n",
        "print(d.items())"
      ],
      "execution_count": null,
      "outputs": [
        {
          "output_type": "stream",
          "text": [
            "dict_items([('roll_number', 12), ('name', 'swapnil'), ('age', 30)])\n"
          ],
          "name": "stdout"
        }
      ]
    },
    {
      "cell_type": "code",
      "metadata": {
        "colab": {
          "base_uri": "https://localhost:8080/"
        },
        "id": "tcgsTkHG4eu6",
        "outputId": "bc908de6-3072-46ce-fcc7-58c5d5402a29"
      },
      "source": [
        "# copy\r\n",
        "\r\n",
        "d = {'roll_number':12, 'name':'swapnil', 'age':24}\r\n",
        "dcopy = d.copy()\r\n",
        "print(dcopy)"
      ],
      "execution_count": null,
      "outputs": [
        {
          "output_type": "stream",
          "text": [
            "{'roll_number': 12, 'name': 'swapnil', 'age': 30}\n"
          ],
          "name": "stdout"
        }
      ]
    },
    {
      "cell_type": "code",
      "metadata": {
        "colab": {
          "base_uri": "https://localhost:8080/"
        },
        "id": "qOsVAJM74fTR",
        "outputId": "3260d33f-a1ff-475b-a2f4-203a62ad6835"
      },
      "source": [
        "# get\r\n",
        "\r\n",
        "d = {'roll_number':12, 'name':'swapnil', 'age':24}\r\n",
        "print(d.get('name'))"
      ],
      "execution_count": null,
      "outputs": [
        {
          "output_type": "stream",
          "text": [
            "swapnil\n"
          ],
          "name": "stdout"
        }
      ]
    },
    {
      "cell_type": "code",
      "metadata": {
        "colab": {
          "base_uri": "https://localhost:8080/"
        },
        "id": "P9YwxElk4ftZ",
        "outputId": "1aa2a296-7e5b-4f68-b1ac-a7f1d61f0061"
      },
      "source": [
        "# pop\r\n",
        "\r\n",
        "d = {'roll_number':12, 'name':'swapnil', 'age':24}\r\n",
        "print(d.pop('name'))"
      ],
      "execution_count": null,
      "outputs": [
        {
          "output_type": "stream",
          "text": [
            "swapnil\n"
          ],
          "name": "stdout"
        }
      ]
    },
    {
      "cell_type": "code",
      "metadata": {
        "colab": {
          "base_uri": "https://localhost:8080/"
        },
        "id": "siTua5mN4eUh",
        "outputId": "aab653a9-08dc-4d6e-c82e-8f7c8511d187"
      },
      "source": [
        "# clear\r\n",
        "\r\n",
        "d = {'roll_number':12, 'name':'swapnil', 'age':24}\r\n",
        "d.clear()\r\n",
        "print(d)"
      ],
      "execution_count": null,
      "outputs": [
        {
          "output_type": "stream",
          "text": [
            "{}\n"
          ],
          "name": "stdout"
        }
      ]
    },
    {
      "cell_type": "code",
      "metadata": {
        "colab": {
          "base_uri": "https://localhost:8080/"
        },
        "id": "xKHTffZA4fEJ",
        "outputId": "f71c1051-4523-4856-de21-d0dcac90ae92"
      },
      "source": [
        "# fromkeys\r\n",
        "\r\n",
        "d = {'roll_number':12, 'name':'swapnil', 'age':24}\r\n",
        "print(d.fromkeys([1,2,3,4],11 ))\r\n"
      ],
      "execution_count": null,
      "outputs": [
        {
          "output_type": "stream",
          "text": [
            "{1: 11, 2: 11, 3: 11, 4: 11}\n"
          ],
          "name": "stdout"
        }
      ]
    },
    {
      "cell_type": "code",
      "metadata": {
        "id": "8xJogy0N4gNK"
      },
      "source": [
        "# popitem"
      ],
      "execution_count": null,
      "outputs": []
    },
    {
      "cell_type": "code",
      "metadata": {
        "id": "8Hr5oPyz4gfh"
      },
      "source": [
        "# setdefault"
      ],
      "execution_count": null,
      "outputs": []
    },
    {
      "cell_type": "code",
      "metadata": {
        "id": "19Bvlvyf4grx"
      },
      "source": [
        "# update"
      ],
      "execution_count": null,
      "outputs": []
    },
    {
      "cell_type": "markdown",
      "metadata": {
        "id": "Sul7DlzKJka6"
      },
      "source": [
        "## 6) Set\r\n",
        "\r\n",
        "*   **Set** is a unorder list of unique items.\r\n",
        "*   Sets are **mutable**.\r\n",
        "*   It dose not support indexing."
      ]
    },
    {
      "cell_type": "code",
      "metadata": {
        "colab": {
          "base_uri": "https://localhost:8080/"
        },
        "id": "aBh0havVIlTE",
        "outputId": "d95ff19f-d1b7-44e0-a99e-8e0f3cec2d31"
      },
      "source": [
        "\r\n",
        "s = set([1,2,3,2,14,6,4,14,6,7])\r\n",
        "print(s)"
      ],
      "execution_count": null,
      "outputs": [
        {
          "output_type": "stream",
          "text": [
            "{1, 2, 3, 4, 6, 7, 14}\n"
          ],
          "name": "stdout"
        }
      ]
    },
    {
      "cell_type": "code",
      "metadata": {
        "colab": {
          "base_uri": "https://localhost:8080/"
        },
        "id": "-zkcP7YqKIAr",
        "outputId": "5432a593-3298-4dee-86dd-e8ea1903e575"
      },
      "source": [
        "# we can also create set like given below.\r\n",
        "\r\n",
        "s = {1,2,3,2,14,6,4,14,6,7}\r\n",
        "print(s)"
      ],
      "execution_count": null,
      "outputs": [
        {
          "output_type": "stream",
          "text": [
            "{1, 2, 3, 4, 6, 7, 14}\n"
          ],
          "name": "stdout"
        }
      ]
    },
    {
      "cell_type": "code",
      "metadata": {
        "colab": {
          "base_uri": "https://localhost:8080/"
        },
        "id": "4Xa8t7zoKwBq",
        "outputId": "e3ef2779-4a84-4070-c4c6-0286d1b1ab54"
      },
      "source": [
        "dir(set())"
      ],
      "execution_count": null,
      "outputs": [
        {
          "output_type": "execute_result",
          "data": {
            "text/plain": [
              "['__and__',\n",
              " '__class__',\n",
              " '__contains__',\n",
              " '__delattr__',\n",
              " '__dir__',\n",
              " '__doc__',\n",
              " '__eq__',\n",
              " '__format__',\n",
              " '__ge__',\n",
              " '__getattribute__',\n",
              " '__gt__',\n",
              " '__hash__',\n",
              " '__iand__',\n",
              " '__init__',\n",
              " '__init_subclass__',\n",
              " '__ior__',\n",
              " '__isub__',\n",
              " '__iter__',\n",
              " '__ixor__',\n",
              " '__le__',\n",
              " '__len__',\n",
              " '__lt__',\n",
              " '__ne__',\n",
              " '__new__',\n",
              " '__or__',\n",
              " '__rand__',\n",
              " '__reduce__',\n",
              " '__reduce_ex__',\n",
              " '__repr__',\n",
              " '__ror__',\n",
              " '__rsub__',\n",
              " '__rxor__',\n",
              " '__setattr__',\n",
              " '__sizeof__',\n",
              " '__str__',\n",
              " '__sub__',\n",
              " '__subclasshook__',\n",
              " '__xor__',\n",
              " 'add',\n",
              " 'clear',\n",
              " 'copy',\n",
              " 'difference',\n",
              " 'difference_update',\n",
              " 'discard',\n",
              " 'intersection',\n",
              " 'intersection_update',\n",
              " 'isdisjoint',\n",
              " 'issubset',\n",
              " 'issuperset',\n",
              " 'pop',\n",
              " 'remove',\n",
              " 'symmetric_difference',\n",
              " 'symmetric_difference_update',\n",
              " 'union',\n",
              " 'update']"
            ]
          },
          "metadata": {
            "tags": []
          },
          "execution_count": 76
        }
      ]
    },
    {
      "cell_type": "markdown",
      "metadata": {
        "id": "bK9dlZs9K-OZ"
      },
      "source": [
        "## **Exercise**\r\n",
        "\r\n",
        "*   Perform all available methods for perticular datatype except methods starts with **double underscore (__)**.\r\n",
        "*   Use **help()** function to check how to use them."
      ]
    },
    {
      "cell_type": "markdown",
      "metadata": {
        "id": "UFX04SCjLyhD"
      },
      "source": [
        "# 5) MUTABLE AND IMMUTABLE\r\n",
        "\r\n",
        "**1.   Mutable** means we can change variables value after they created.\r\n",
        "*   **Examples**: Integer, String and Tuples.<br>\r\n",
        "\r\n",
        "*   Lets see in mutable datatypes, if a=10 and b=15 we can use id() to check the memory location of variable a and b.\r\n",
        "*   Now we assign variable a to variable c, the variable c point to the same memory location that a is pointing to.\r\n",
        "*   But if we change the value of 'a' to 20 will \r\n",
        "it will point to diffrent location.\r\n",
        "*   So, it means now  variables a and c pointing to diffrent locations.\r\n",
        "*   It means that, we can not change the value of that perticular memory location.\r\n",
        "\r\n",
        "<hr>\r\n",
        "\r\n",
        "**2.   Immutable** means we can not change variables value after they created.\r\n",
        "*   **Examples**: List, Set and Dictionary.\r\n",
        "\r\n",
        "*   Lets see in immutable datatypes, if a=[1,2,3,4] and b=[6,7,8,9] we can use id() to check the memory location of variable a and b.\r\n",
        "*   Now we assign variable a to variable c, the variable c point to the same memory location that a is pointing to.\r\n",
        "*   But if we append the 12 to variable a still both a and c points to the same location. \r\n",
        "*   It means that, we can change the value of that perticular memory location\r\n",
        "\r\n",
        "\r\n",
        "<br><hr>\r\n",
        "\r\n",
        "*   In python every variable is reference to the \r\n",
        "memory location where the data is stored.<br> \r\n",
        "*   for better understanding look below cells."
      ]
    },
    {
      "cell_type": "code",
      "metadata": {
        "id": "-Sk5AMxeK12S",
        "colab": {
          "base_uri": "https://localhost:8080/"
        },
        "outputId": "8d0c8e90-647e-49f9-9d28-b658e14c2a4c"
      },
      "source": [
        "# mutable\r\n",
        "a=10\r\n",
        "b=15\r\n",
        "print('Id of a = ', id(a), 'value of a', a)\r\n",
        "print('Id of b = ', id(b))\r\n",
        "\r\n",
        "c=a\r\n",
        "print('\\nId of c = ', id(c), 'value of c', c)\r\n",
        "\r\n",
        "a=20\r\n",
        "print('\\nId of a = ', id(a), 'value of a', a)\r\n",
        "print('Id of c = ', id(c), 'value of c', c)\r\n"
      ],
      "execution_count": 16,
      "outputs": [
        {
          "output_type": "stream",
          "text": [
            "Id of a =  10914784 value of a 10\n",
            "Id of b =  10914944\n",
            "\n",
            "Id of c =  10914784 value of c 10\n",
            "\n",
            "Id of a =  10915104 value of a 20\n",
            "Id of c =  10914784 value of c 10\n"
          ],
          "name": "stdout"
        }
      ]
    },
    {
      "cell_type": "code",
      "metadata": {
        "colab": {
          "base_uri": "https://localhost:8080/"
        },
        "id": "eD0Wcerg25zJ",
        "outputId": "113b2d7f-3a65-4b36-e94f-c250184217a6"
      },
      "source": [
        "# immutabble\r\n",
        "\r\n",
        "a = [1,2,3,4]\r\n",
        "b = [6,7,8,9]\r\n",
        "\r\n",
        "print('Id of a = ', id(a), 'value of a', a)\r\n",
        "print('Id of b = ', id(b))\r\n",
        "\r\n",
        "c = a\r\n",
        "print('\\nId of c = ', id(c), 'value of a', a)\r\n",
        "\r\n",
        "a+=[12]\r\n",
        "print('\\nId of a = ', id(a), 'value of a', a)\r\n",
        "print('Id of c = ', id(c), 'value of c', c)\r\n",
        "\r\n"
      ],
      "execution_count": 15,
      "outputs": [
        {
          "output_type": "stream",
          "text": [
            "Id of a =  140201731765768 value of a [1, 2, 3, 4]\n",
            "Id of b =  140201731766408\n",
            "\n",
            "Id of c =  140201731765768 value of a [1, 2, 3, 4]\n",
            "\n",
            "Id of a =  140201731765768 value of a [1, 2, 3, 4, 12]\n",
            "Id of c =  140201731765768 value of c [1, 2, 3, 4, 12]\n"
          ],
          "name": "stdout"
        }
      ]
    },
    {
      "cell_type": "markdown",
      "metadata": {
        "id": "cBMhDK_JNdtu"
      },
      "source": [
        "# 6) CONDITIONAL STATMENTS"
      ]
    },
    {
      "cell_type": "markdown",
      "metadata": {
        "id": "eGQ7NTYWNkTt"
      },
      "source": [
        "## 1) if\r\n",
        "\r\n",
        "*  It is used to ckeck the given condition.\r\n",
        "*  syntax : \r\n",
        ">  if condition: \r\n",
        ">>statments\r\n"
      ]
    },
    {
      "cell_type": "code",
      "metadata": {
        "colab": {
          "base_uri": "https://localhost:8080/"
        },
        "id": "-abXsi71Niw9",
        "outputId": "870f5886-4a73-4220-b769-00f0d6a6aa51"
      },
      "source": [
        "a = 10\r\n",
        "if a==10:\r\n",
        "  print('value of a is 10')"
      ],
      "execution_count": 25,
      "outputs": [
        {
          "output_type": "stream",
          "text": [
            "value of a is 10\n"
          ],
          "name": "stdout"
        }
      ]
    },
    {
      "cell_type": "code",
      "metadata": {
        "colab": {
          "base_uri": "https://localhost:8080/"
        },
        "id": "WiC1_GGOOHqJ",
        "outputId": "5b2f4757-4fe8-4e02-febd-c2510d2a2eb5"
      },
      "source": [
        "a = 100\r\n",
        "if a>10:\r\n",
        "  print('value of a is greater than 10')"
      ],
      "execution_count": 26,
      "outputs": [
        {
          "output_type": "stream",
          "text": [
            "value of a is greater than 10\n"
          ],
          "name": "stdout"
        }
      ]
    },
    {
      "cell_type": "code",
      "metadata": {
        "colab": {
          "base_uri": "https://localhost:8080/"
        },
        "id": "zozVTkYnOHnB",
        "outputId": "ce3fedc9-ed52-4ecd-c598-8298c0e08378"
      },
      "source": [
        "a = 1\r\n",
        "if a<10:\r\n",
        "  print('value of a is less than 10')"
      ],
      "execution_count": 27,
      "outputs": [
        {
          "output_type": "stream",
          "text": [
            "value of a is less than 10\n"
          ],
          "name": "stdout"
        }
      ]
    },
    {
      "cell_type": "code",
      "metadata": {
        "colab": {
          "base_uri": "https://localhost:8080/"
        },
        "id": "el6A7mU-OHd0",
        "outputId": "09e8ffde-26ec-4ffa-b039-dcf2d1307c09"
      },
      "source": [
        "a = 5\r\n",
        "if a!=10:\r\n",
        "  print('value of a is not equals to10')"
      ],
      "execution_count": 28,
      "outputs": [
        {
          "output_type": "stream",
          "text": [
            "value of a is not equals to10\n"
          ],
          "name": "stdout"
        }
      ]
    },
    {
      "cell_type": "markdown",
      "metadata": {
        "id": "-HCgYOBxOcTE"
      },
      "source": [
        "## 2) if else\r\n",
        "\r\n",
        "*  if the given condition is false then it will executes statments from else block. "
      ]
    },
    {
      "cell_type": "code",
      "metadata": {
        "colab": {
          "base_uri": "https://localhost:8080/"
        },
        "id": "8RLoNkMmOtOH",
        "outputId": "138a6820-6d0b-4599-aaa6-0cfb7b69e19d"
      },
      "source": [
        "a = 10\r\n",
        "if a!=10:\r\n",
        "  print('value of a is not equal to 10')\r\n",
        "else:\r\n",
        "  print('value of a is 10')"
      ],
      "execution_count": 29,
      "outputs": [
        {
          "output_type": "stream",
          "text": [
            "value of a is 10\n"
          ],
          "name": "stdout"
        }
      ]
    },
    {
      "cell_type": "markdown",
      "metadata": {
        "id": "TD1uvV3vO_wm"
      },
      "source": [
        "## 3) nested if else"
      ]
    },
    {
      "cell_type": "code",
      "metadata": {
        "id": "ADxpmz3qO_AW"
      },
      "source": [
        "a = 100\r\n",
        "if a>10:\r\n",
        "  print()\r\n",
        "  if a==100:\r\n",
        "  print('value of a is not equal to 10')\r\n",
        "else:\r\n",
        "  print('value of a is 10')"
      ],
      "execution_count": null,
      "outputs": []
    },
    {
      "cell_type": "markdown",
      "metadata": {
        "id": "FQ1mDxV-HdFC"
      },
      "source": [
        "# 7) LOOPS"
      ]
    },
    {
      "cell_type": "markdown",
      "metadata": {
        "id": "qhW2a8I8Jtfb"
      },
      "source": [
        "## 1) range()\r\n",
        "\r\n",
        "*  range() function is more frequently used with for loop.\r\n",
        "*  range function creates a squence from starting value to end value.\r\n",
        "*  It takes 3 args start, end, step\r\n",
        "*  sequence starts from start value and ends to end value(excluded).  \r\n",
        "*  step is used to make diffrence between two values. "
      ]
    },
    {
      "cell_type": "code",
      "metadata": {
        "colab": {
          "base_uri": "https://localhost:8080/"
        },
        "id": "rRZDgqAdJU1o",
        "outputId": "75f43546-4a3a-4219-c541-9f7648a09382"
      },
      "source": [
        "# range\r\n",
        "\r\n",
        "a = range(1, 10) # create sequence form value 1 to 10 (10 is excluded)\r\n",
        "print(a)\r\n",
        "print(list(a))"
      ],
      "execution_count": 20,
      "outputs": [
        {
          "output_type": "stream",
          "text": [
            "range(1, 10)\n",
            "[1, 2, 3, 4, 5, 6, 7, 8, 9]\n"
          ],
          "name": "stdout"
        }
      ]
    },
    {
      "cell_type": "code",
      "metadata": {
        "colab": {
          "base_uri": "https://localhost:8080/"
        },
        "id": "N7BOJQGlKv3z",
        "outputId": "19c72d71-111d-4f90-cab5-d0d21c715a85"
      },
      "source": [
        "\r\n",
        "a = range(1, 10, 2) # create sequence form value 1 to 10 (10 is excluded)\r\n",
        "print(a)\r\n",
        "print(list(a))"
      ],
      "execution_count": 21,
      "outputs": [
        {
          "output_type": "stream",
          "text": [
            "range(1, 10, 2)\n",
            "[1, 3, 5, 7, 9]\n"
          ],
          "name": "stdout"
        }
      ]
    },
    {
      "cell_type": "code",
      "metadata": {
        "colab": {
          "base_uri": "https://localhost:8080/"
        },
        "id": "ybslF3HXLD60",
        "outputId": "b9d09639-6c36-48cd-82d5-70816474c8af"
      },
      "source": [
        "\r\n",
        "a = range(1, 10, 5) # create sequence form value 1 to 10 (10 is excluded)\r\n",
        "print(a)\r\n",
        "print(list(a))"
      ],
      "execution_count": 23,
      "outputs": [
        {
          "output_type": "stream",
          "text": [
            "range(1, 10, 5)\n",
            "[1, 6]\n"
          ],
          "name": "stdout"
        }
      ]
    },
    {
      "cell_type": "markdown",
      "metadata": {
        "id": "B7pINTAFHf8h"
      },
      "source": [
        "## 2) for\r\n",
        "\r\n",
        "*  for loop is used to iterate over the sequence.\r\n",
        "*  for loop in python is little diffrent than other languages."
      ]
    },
    {
      "cell_type": "code",
      "metadata": {
        "colab": {
          "base_uri": "https://localhost:8080/"
        },
        "id": "v4NEMz9h4jTY",
        "outputId": "3673b39e-4472-4f60-93ad-bdc458cdf99f"
      },
      "source": [
        "a = [1, 2, 3, 4] # list\r\n",
        "for i in a:      # iterate over list\r\n",
        "  print(i, end=',')"
      ],
      "execution_count": 17,
      "outputs": [
        {
          "output_type": "stream",
          "text": [
            "1,2,3,4,"
          ],
          "name": "stdout"
        }
      ]
    },
    {
      "cell_type": "code",
      "metadata": {
        "colab": {
          "base_uri": "https://localhost:8080/"
        },
        "id": "sjKp49a5LNjJ",
        "outputId": "04694d87-7565-41cf-d07d-c66b1ac4f2b2"
      },
      "source": [
        "# using range \r\n",
        "\r\n",
        "for i in range(1, 10):      # iterate over list\r\n",
        "  print(i, end=',')"
      ],
      "execution_count": 24,
      "outputs": [
        {
          "output_type": "stream",
          "text": [
            "1,2,3,4,5,6,7,8,9,"
          ],
          "name": "stdout"
        }
      ]
    },
    {
      "cell_type": "markdown",
      "metadata": {
        "id": "8e8aOyK1SUOK"
      },
      "source": [
        "## 3) for else\r\n"
      ]
    },
    {
      "cell_type": "code",
      "metadata": {
        "colab": {
          "base_uri": "https://localhost:8080/"
        },
        "id": "M0JQLpM6SXsy",
        "outputId": "cfee4f70-7f58-4b2a-ffbf-4a1ababff41b"
      },
      "source": [
        "for i in range(1, 10):      # iterate over list\r\n",
        "  print(i, end=',')\r\n",
        "else:\r\n",
        "  print('\\nelse block...')"
      ],
      "execution_count": 4,
      "outputs": [
        {
          "output_type": "stream",
          "text": [
            "1,2,3,4,5,6,7,8,9,\n",
            "else block...\n"
          ],
          "name": "stdout"
        }
      ]
    },
    {
      "cell_type": "markdown",
      "metadata": {
        "id": "7gqBJ00qMtL4"
      },
      "source": [
        "## 4) while\r\n",
        "\r\n",
        "*  It execuits the block of code only when given condition is true. "
      ]
    },
    {
      "cell_type": "code",
      "metadata": {
        "colab": {
          "base_uri": "https://localhost:8080/"
        },
        "id": "8dsF0vZZMrEN",
        "outputId": "486f7caf-ad2b-4726-f314-b420fa2033f1"
      },
      "source": [
        "a=10\r\n",
        "while a>=1:\r\n",
        "  print(a)\r\n",
        "  a-=1 "
      ],
      "execution_count": 1,
      "outputs": [
        {
          "output_type": "stream",
          "text": [
            "10\n",
            "9\n",
            "8\n",
            "7\n",
            "6\n",
            "5\n",
            "4\n",
            "3\n",
            "2\n",
            "1\n"
          ],
          "name": "stdout"
        }
      ]
    },
    {
      "cell_type": "markdown",
      "metadata": {
        "id": "QlUU8xDRR9B4"
      },
      "source": [
        "## 5) while else\r\n"
      ]
    },
    {
      "cell_type": "code",
      "metadata": {
        "colab": {
          "base_uri": "https://localhost:8080/"
        },
        "id": "0nm-gGeVLSQt",
        "outputId": "63a7fc4e-ce80-4ac8-8439-1046c1d8d2a5"
      },
      "source": [
        "a=10\r\n",
        "while a>=1:\r\n",
        "  print(a)\r\n",
        "  a-=1 \r\n",
        "else:\r\n",
        "  print('value ofa is less than 1')"
      ],
      "execution_count": 2,
      "outputs": [
        {
          "output_type": "stream",
          "text": [
            "10\n",
            "9\n",
            "8\n",
            "7\n",
            "6\n",
            "5\n",
            "4\n",
            "3\n",
            "2\n",
            "1\n",
            "value ofa is less than 1\n"
          ],
          "name": "stdout"
        }
      ]
    },
    {
      "cell_type": "markdown",
      "metadata": {
        "id": "zSJEBEvQS36l"
      },
      "source": [
        "# 8) FUNCTIONS\r\n",
        "\r\n",
        "*   **functions** are nothing but execution of block of code.\r\n",
        "*   It minimizes the lines in the program.\r\n",
        "*   It takes multiple arguments.\r\n",
        "*   It can also return multiple values.\r\n",
        "*   **def** keyword is used to create function. "
      ]
    },
    {
      "cell_type": "code",
      "metadata": {
        "colab": {
          "base_uri": "https://localhost:8080/"
        },
        "id": "HfVa8J4YUS56",
        "outputId": "ffddaca3-11f1-4f68-acd2-04c3989b47c9"
      },
      "source": [
        "# simple hello function\r\n",
        "\r\n",
        "def hello():   # function declaration.\r\n",
        "  print('Hello World....')\r\n",
        "\r\n",
        "hello()   # function call."
      ],
      "execution_count": 5,
      "outputs": [
        {
          "output_type": "stream",
          "text": [
            "Hello World....\n"
          ],
          "name": "stdout"
        }
      ]
    },
    {
      "cell_type": "code",
      "metadata": {
        "colab": {
          "base_uri": "https://localhost:8080/"
        },
        "id": "AynHYhoAUroy",
        "outputId": "f6a25e9e-50eb-423c-9f9c-eb579779feb2"
      },
      "source": [
        "# function with arguments\r\n",
        "\r\n",
        "def add(a, b):\r\n",
        "  print('addition is = :', a+b)\r\n",
        "\r\n",
        "add(5, 10)"
      ],
      "execution_count": 6,
      "outputs": [
        {
          "output_type": "stream",
          "text": [
            "addition is = : 15\n"
          ],
          "name": "stdout"
        }
      ]
    },
    {
      "cell_type": "code",
      "metadata": {
        "colab": {
          "base_uri": "https://localhost:8080/"
        },
        "id": "lIqmc9U_U8tg",
        "outputId": "2a5187b8-737b-49cd-cd1a-063a1907d8f8"
      },
      "source": [
        "# function with return statment.\r\n",
        "\r\n",
        "def add(a, b):\r\n",
        "  return a+b\r\n",
        "\r\n",
        "\r\n",
        "sum = add(5, 10)\r\n",
        "print('addition is = :', sum)\r\n"
      ],
      "execution_count": 7,
      "outputs": [
        {
          "output_type": "stream",
          "text": [
            "addition is = : 15\n"
          ],
          "name": "stdout"
        }
      ]
    },
    {
      "cell_type": "markdown",
      "metadata": {
        "id": "uoxwwhl-WGog"
      },
      "source": [
        "# 9) \\*args and **kwargs\r\n",
        "\r\n",
        "*   **\\*args** is used to pass variable length of arguments to the function.\r\n",
        "*   It act as a tuple.\r\n",
        "*   **\\*\\*kwargs** is used pass variable length of key value paire of arguments.\r\n",
        "*   It ascts as dictionry."
      ]
    },
    {
      "cell_type": "code",
      "metadata": {
        "colab": {
          "base_uri": "https://localhost:8080/"
        },
        "id": "X36FoVDDVNhB",
        "outputId": "a5c0819a-b832-4335-b019-58a78a33fba6"
      },
      "source": [
        "# *arg\r\n",
        "\r\n",
        "def add(*args):\r\n",
        "  sum = 0\r\n",
        "  for i in args:\r\n",
        "    sum+=i\r\n",
        "  return sum\r\n",
        "\r\n",
        "sum = add(5, 10, 15, 20)\r\n",
        "print('addition is = :', sum)\r\n",
        "\r\n",
        "sum = add(1,2,3,4,5,6)\r\n",
        "print('addition is = :', sum)\r\n",
        "\r\n"
      ],
      "execution_count": 15,
      "outputs": [
        {
          "output_type": "stream",
          "text": [
            "addition is = : 50\n",
            "addition is = : 21\n"
          ],
          "name": "stdout"
        }
      ]
    },
    {
      "cell_type": "code",
      "metadata": {
        "colab": {
          "base_uri": "https://localhost:8080/"
        },
        "id": "f8lAk2khW5tI",
        "outputId": "ecd340fe-cea1-470c-fe9a-473ea6c62cc1"
      },
      "source": [
        "def info(**kwargs):\r\n",
        "  for key, value in kwargs.items():\r\n",
        "    print('key : ',key,', value : ',value)\r\n",
        "\r\n",
        "info(name='swapnil', age=23)\r\n",
        "\r\n",
        "# d = {'name':'swapnil', 'age':23, 'rll_no':12}\r\n",
        "print()\r\n",
        "info(name='swapnil', age=23, rll_no=12)"
      ],
      "execution_count": 25,
      "outputs": [
        {
          "output_type": "stream",
          "text": [
            "<class 'dict'>\n",
            "key :  name , value :  swapnil\n",
            "key :  age , value :  23\n",
            "\n",
            "<class 'dict'>\n",
            "key :  name , value :  swapnil\n",
            "key :  age , value :  23\n",
            "key :  rll_no , value :  12\n"
          ],
          "name": "stdout"
        }
      ]
    },
    {
      "cell_type": "code",
      "metadata": {
        "id": "I9iLKow6YpYi"
      },
      "source": [
        ""
      ],
      "execution_count": null,
      "outputs": []
    }
  ]
}