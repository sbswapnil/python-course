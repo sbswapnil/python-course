{
  "nbformat": 4,
  "nbformat_minor": 0,
  "metadata": {
    "colab": {
      "name": "Basic Python Tutorial.ipynb",
      "provenance": [],
      "toc_visible": true,
      "authorship_tag": "ABX9TyOHvbQzjKBYsKyTo/TOzLzD",
      "include_colab_link": true
    },
    "kernelspec": {
      "display_name": "Python 3",
      "name": "python3"
    }
  },
  "cells": [
    {
      "cell_type": "markdown",
      "metadata": {
        "id": "view-in-github",
        "colab_type": "text"
      },
      "source": [
        "<a href=\"https://colab.research.google.com/github/sbswapnil/python-course/blob/main/Basic_Python_Tutorial.ipynb\" target=\"_parent\"><img src=\"https://colab.research.google.com/assets/colab-badge.svg\" alt=\"Open In Colab\"/></a>"
      ]
    },
    {
      "cell_type": "markdown",
      "metadata": {
        "id": "Bkb1F84VhfxR"
      },
      "source": [
        "# 1) INTRODUCTION\n",
        "\n"
      ]
    },
    {
      "cell_type": "markdown",
      "metadata": {
        "id": "Hnf-QiqSh0WM"
      },
      "source": [
        "## What is Python: \n",
        "\n",
        "**Python** is **open scource general-purpose object-oriented interpreted** programing langauge created by **Guido Van Rossum** in 1991.\n",
        "\n"
      ]
    },
    {
      "cell_type": "markdown",
      "metadata": {
        "id": "T_P3DYX1jAL2"
      },
      "source": [
        "## Characteristics:\n",
        "\n",
        "\n",
        "*   Python is a **Dynamic Type Langauge**.<br>we do not need to assign datatype to a variables.\n",
        "*   It is easy to **learn** and **simple to understand.**\n",
        "*   It is **interpreted** language.\n",
        "*   It takes **very less time** for development.\n",
        "\n",
        "\n",
        "\n"
      ]
    },
    {
      "cell_type": "markdown",
      "metadata": {
        "id": "_HKu-pYpv6wt"
      },
      "source": [
        "#2) FIRST PYTHON PROGRAM"
      ]
    },
    {
      "cell_type": "code",
      "metadata": {
        "colab": {
          "base_uri": "https://localhost:8080/"
        },
        "id": "I-35szkSjLQP",
        "outputId": "016afc97-75d9-491b-c73c-37981bc4bdfc"
      },
      "source": [
        "# this program simply prints the hello world in the output.\r\n",
        "print('Hello World !!')"
      ],
      "execution_count": 40,
      "outputs": [
        {
          "output_type": "stream",
          "text": [
            "Hello World !!\n"
          ],
          "name": "stdout"
        }
      ]
    },
    {
      "cell_type": "markdown",
      "metadata": {
        "id": "CyWXtBKvwcVR"
      },
      "source": [
        "# 3) VARIABLE TYPES AND ASSIGNMENTS\r\n",
        "\r\n",
        "*   python supports **String**, **Integer**, **Float**, **Boolean** and **complex** datatypes. "
      ]
    },
    {
      "cell_type": "code",
      "metadata": {
        "colab": {
          "base_uri": "https://localhost:8080/"
        },
        "id": "gNs4n2hSdUic",
        "outputId": "4ff73ae8-7759-459d-db71-ca42c3b1c63c"
      },
      "source": [
        "roll_number = 12  #interger\r\n",
        "name = 'swapnil'  #string\r\n",
        "marks = 97.23     #float\r\n",
        "ispass = True     #boolean\r\n",
        "coplx = 2+3j      # complex\r\n",
        "# we can print multiple variables like given below.\r\n",
        "print(roll_number, name, marks, ispass, coplx) "
      ],
      "execution_count": 41,
      "outputs": [
        {
          "output_type": "stream",
          "text": [
            "12 swapnil 97.23 True (2+3j)\n"
          ],
          "name": "stdout"
        }
      ]
    },
    {
      "cell_type": "markdown",
      "metadata": {
        "id": "XZ7UM7zpx_v7"
      },
      "source": [
        "## Multiple assignment\r\n",
        "\r\n",
        "*   In Multiple assignment, we can assign multiple variables in a single line."
      ]
    },
    {
      "cell_type": "code",
      "metadata": {
        "colab": {
          "base_uri": "https://localhost:8080/"
        },
        "id": "DLgo_YHnxeKw",
        "outputId": "329c68f4-6d7a-4f91-c2d4-6885556871f4"
      },
      "source": [
        "a=b=1\r\n",
        "\r\n",
        "# value of a is 1 and value for b is also 1\r\n",
        "print(a,b)"
      ],
      "execution_count": 42,
      "outputs": [
        {
          "output_type": "stream",
          "text": [
            "1 1\n"
          ],
          "name": "stdout"
        }
      ]
    },
    {
      "cell_type": "code",
      "metadata": {
        "colab": {
          "base_uri": "https://localhost:8080/"
        },
        "id": "5jmxa0oXyHUD",
        "outputId": "f94ae62b-1984-4555-af12-346a2d4b55c5"
      },
      "source": [
        "a,b=2,'swapnil'\r\n",
        "# value of a is 2 and value for b is swapnil\r\n",
        "print(a,b)"
      ],
      "execution_count": 43,
      "outputs": [
        {
          "output_type": "stream",
          "text": [
            "2 swapnil\n"
          ],
          "name": "stdout"
        }
      ]
    },
    {
      "cell_type": "markdown",
      "metadata": {
        "id": "s0cQtIkQyvF-"
      },
      "source": [
        "# 4) STANDERD DATATYPES\r\n",
        "\r\n",
        "*   **Numbers:** \r\n",
        "*   **String:**\r\n",
        "*   **List:**\r\n",
        "*   **Tuple:**\r\n",
        "*   **Dictionary:** \r\n",
        "\r\n",
        "**Mutable datatypes**:\r\n",
        "\r\n",
        "1.   List\r\n",
        "2.   Sets\r\n",
        "3.   Dictionary\r\n",
        "\r\n",
        "**Immutable datatypes**:\r\n",
        "\r\n",
        "1.   Numeric data types\r\n",
        "2.   Strings\r\n",
        "3.   Tuples\r\n",
        "\r\n",
        "\r\n",
        "we will see what is **mutable** and **immutable** means later in this tutorial.<br> **id()** is a function used to get identity (memory location) of the variable.\r\n"
      ]
    },
    {
      "cell_type": "markdown",
      "metadata": {
        "id": "N6kW0w9M6N_x"
      },
      "source": [
        "## 1) Numbers\r\n",
        "\r\n",
        "*   **Numbers:** python supports four different numerical types: **1)int 2)long 3)float and 4)complex**.\r\n",
        "*   Numbers are **immutable** it means that, we can not change it after they created.\r\n"
      ]
    },
    {
      "cell_type": "code",
      "metadata": {
        "id": "HtXgU5qOyahr"
      },
      "source": [
        "a = 12 #integer\r\n",
        "b = 12.12 #float\r\n",
        "c = 12+12j #complex\r\n",
        "\r\n",
        "d = 12\r\n",
        "# print('Id of variable a', id(a))\r\n",
        "# a=23\r\n",
        "# print('Id of variable d', id(a))"
      ],
      "execution_count": 44,
      "outputs": []
    },
    {
      "cell_type": "markdown",
      "metadata": {
        "id": "HOwwaieqrvZd"
      },
      "source": [
        "## 2) Strings\r\n",
        "\r\n",
        "*   Strings are **continuous set of characters.**\r\n",
        "*   String are also **immutable**."
      ]
    },
    {
      "cell_type": "code",
      "metadata": {
        "colab": {
          "base_uri": "https://localhost:8080/"
        },
        "id": "blUGSwQ-rUdD",
        "outputId": "1afe757c-eb6f-49bd-af6a-f0c4b899c4b3"
      },
      "source": [
        "s1 = 'swapnil'\r\n",
        "s2 = s1+' bobe'\r\n",
        "s3 = 'swapnil'\r\n",
        "# print('Id of variable s1', id(s1))\r\n",
        "# print('Id of variable s3', id(s3))\r\n",
        "print(s1,s2, sep=',') # 'sep' parameter used to seperate the arguments in print function."
      ],
      "execution_count": 45,
      "outputs": [
        {
          "output_type": "stream",
          "text": [
            "swapnil,swapnil bobe\n"
          ],
          "name": "stdout"
        }
      ]
    },
    {
      "cell_type": "markdown",
      "metadata": {
        "id": "ih--pVT3s1rd"
      },
      "source": [
        "**String slicing**: we can access the part of string.<br>**Example:** s1='swapnil',  we can slice it as s1[start index, end index]\r\n",
        "\r\n",
        "\r\n",
        "*   If we dont want to include starting index we can do that as well like this **s1[:end index]**, so it start from begining of the string.\r\n",
        "*   also, If we dont want to include end index we can do that as well like this **s1[strat index:]**, so it start from given index and ends to the end of the string.\r\n",
        "*   combining above two point we can copy whole string like s1[:]\r\n",
        "\r\n",
        "*   indexing starts from 0.\r\n",
        "\r\n",
        "\r\n",
        "\r\n"
      ]
    },
    {
      "cell_type": "code",
      "metadata": {
        "colab": {
          "base_uri": "https://localhost:8080/"
        },
        "id": "frVIUKIRtI4P",
        "outputId": "4e5b8d8c-80bc-46e2-d31f-89acda2958f1"
      },
      "source": [
        "s1 = 'swapnil'\r\n",
        "print(s1[0:2])"
      ],
      "execution_count": 46,
      "outputs": [
        {
          "output_type": "stream",
          "text": [
            "sw\n"
          ],
          "name": "stdout"
        }
      ]
    },
    {
      "cell_type": "code",
      "metadata": {
        "colab": {
          "base_uri": "https://localhost:8080/"
        },
        "id": "JhIdE6reu2Ka",
        "outputId": "60e6a7ef-ea58-4796-cb7b-f7a23e6d0771"
      },
      "source": [
        "print(s1[:3])"
      ],
      "execution_count": 47,
      "outputs": [
        {
          "output_type": "stream",
          "text": [
            "swa\n"
          ],
          "name": "stdout"
        }
      ]
    },
    {
      "cell_type": "code",
      "metadata": {
        "colab": {
          "base_uri": "https://localhost:8080/"
        },
        "id": "rovYCaq5u7l0",
        "outputId": "01ccc4c4-5c6b-4944-a494-1aab0793f949"
      },
      "source": [
        "print(s1[3:])"
      ],
      "execution_count": 48,
      "outputs": [
        {
          "output_type": "stream",
          "text": [
            "pnil\n"
          ],
          "name": "stdout"
        }
      ]
    },
    {
      "cell_type": "code",
      "metadata": {
        "colab": {
          "base_uri": "https://localhost:8080/"
        },
        "id": "GVv0HNr9u-v5",
        "outputId": "fc20ffb5-635b-4a4f-ac7a-52d450585248"
      },
      "source": [
        "s1copy = s1[:]\r\n",
        "print(s1copy)"
      ],
      "execution_count": 49,
      "outputs": [
        {
          "output_type": "stream",
          "text": [
            "swapnil\n"
          ],
          "name": "stdout"
        }
      ]
    },
    {
      "cell_type": "code",
      "metadata": {
        "colab": {
          "base_uri": "https://localhost:8080/"
        },
        "id": "-Hno1EdWwRaK",
        "outputId": "b4a790f6-eaa0-4784-c949-d87602bada20"
      },
      "source": [
        "# dir() this function lists all available methods we can use on that perticular variable.\r\n",
        "dir(s1)"
      ],
      "execution_count": 50,
      "outputs": [
        {
          "output_type": "execute_result",
          "data": {
            "text/plain": [
              "['__add__',\n",
              " '__class__',\n",
              " '__contains__',\n",
              " '__delattr__',\n",
              " '__dir__',\n",
              " '__doc__',\n",
              " '__eq__',\n",
              " '__format__',\n",
              " '__ge__',\n",
              " '__getattribute__',\n",
              " '__getitem__',\n",
              " '__getnewargs__',\n",
              " '__gt__',\n",
              " '__hash__',\n",
              " '__init__',\n",
              " '__init_subclass__',\n",
              " '__iter__',\n",
              " '__le__',\n",
              " '__len__',\n",
              " '__lt__',\n",
              " '__mod__',\n",
              " '__mul__',\n",
              " '__ne__',\n",
              " '__new__',\n",
              " '__reduce__',\n",
              " '__reduce_ex__',\n",
              " '__repr__',\n",
              " '__rmod__',\n",
              " '__rmul__',\n",
              " '__setattr__',\n",
              " '__sizeof__',\n",
              " '__str__',\n",
              " '__subclasshook__',\n",
              " 'capitalize',\n",
              " 'casefold',\n",
              " 'center',\n",
              " 'count',\n",
              " 'encode',\n",
              " 'endswith',\n",
              " 'expandtabs',\n",
              " 'find',\n",
              " 'format',\n",
              " 'format_map',\n",
              " 'index',\n",
              " 'isalnum',\n",
              " 'isalpha',\n",
              " 'isdecimal',\n",
              " 'isdigit',\n",
              " 'isidentifier',\n",
              " 'islower',\n",
              " 'isnumeric',\n",
              " 'isprintable',\n",
              " 'isspace',\n",
              " 'istitle',\n",
              " 'isupper',\n",
              " 'join',\n",
              " 'ljust',\n",
              " 'lower',\n",
              " 'lstrip',\n",
              " 'maketrans',\n",
              " 'partition',\n",
              " 'replace',\n",
              " 'rfind',\n",
              " 'rindex',\n",
              " 'rjust',\n",
              " 'rpartition',\n",
              " 'rsplit',\n",
              " 'rstrip',\n",
              " 'split',\n",
              " 'splitlines',\n",
              " 'startswith',\n",
              " 'strip',\n",
              " 'swapcase',\n",
              " 'title',\n",
              " 'translate',\n",
              " 'upper',\n",
              " 'zfill']"
            ]
          },
          "metadata": {
            "tags": []
          },
          "execution_count": 50
        }
      ]
    },
    {
      "cell_type": "markdown",
      "metadata": {
        "id": "fFKW322gstBt"
      },
      "source": [
        "## 3) List\r\n",
        "*   It is collection of different datatypes. \r\n",
        "*   List are **mutable**.\r\n",
        "*   we can create list with list() or []."
      ]
    },
    {
      "cell_type": "code",
      "metadata": {
        "colab": {
          "base_uri": "https://localhost:8080/"
        },
        "id": "PFPfrdqzprJ7",
        "outputId": "37e0749a-1937-41e2-a898-b117d571fdb9"
      },
      "source": [
        "# creating list\r\n",
        "l = [1,2,'swapnil', 2+3j]\r\n",
        "print(l)"
      ],
      "execution_count": 51,
      "outputs": [
        {
          "output_type": "stream",
          "text": [
            "[1, 2, 'swapnil', (2+3j)]\n"
          ],
          "name": "stdout"
        }
      ]
    },
    {
      "cell_type": "code",
      "metadata": {
        "colab": {
          "base_uri": "https://localhost:8080/"
        },
        "id": "Yb-7HoDcp261",
        "outputId": "6c1ac4d0-0241-4897-a8b7-eb9204d082b8"
      },
      "source": [
        "# we can also use  slicing on lists\r\n",
        "\r\n",
        "print(l[0:3])\r\n",
        "print(l[2:])\r\n",
        "print(l[:])"
      ],
      "execution_count": 52,
      "outputs": [
        {
          "output_type": "stream",
          "text": [
            "[1, 2, 'swapnil']\n",
            "['swapnil', (2+3j)]\n",
            "[1, 2, 'swapnil', (2+3j)]\n"
          ],
          "name": "stdout"
        }
      ]
    },
    {
      "cell_type": "code",
      "metadata": {
        "colab": {
          "base_uri": "https://localhost:8080/"
        },
        "id": "ZlSTVX-xEroA",
        "outputId": "c04f7c9e-627f-42c6-c321-d12b57e6ffc0"
      },
      "source": [
        "# list concatination\r\n",
        "l1 = [1,2,3,4]\r\n",
        "l2 = [5,6,7,8]\r\n",
        "l = l1+l2\r\n",
        "print(l)\r\n",
        "print(l1*2)"
      ],
      "execution_count": 53,
      "outputs": [
        {
          "output_type": "stream",
          "text": [
            "[1, 2, 3, 4, 5, 6, 7, 8]\n",
            "[1, 2, 3, 4, 1, 2, 3, 4]\n"
          ],
          "name": "stdout"
        }
      ]
    },
    {
      "cell_type": "code",
      "metadata": {
        "colab": {
          "base_uri": "https://localhost:8080/"
        },
        "id": "CiNy18z10_M6",
        "outputId": "68375784-ccec-4c94-e0c3-a3dc68ca36bc"
      },
      "source": [
        "# assigning values to the list\r\n",
        "\r\n",
        "l[0]='abc' # value abc is assign to the 0th position of list\r\n",
        "print(l)"
      ],
      "execution_count": 54,
      "outputs": [
        {
          "output_type": "stream",
          "text": [
            "['abc', 2, 3, 4, 5, 6, 7, 8]\n"
          ],
          "name": "stdout"
        }
      ]
    },
    {
      "cell_type": "code",
      "metadata": {
        "colab": {
          "base_uri": "https://localhost:8080/"
        },
        "id": "SpvZpQFtCwE4",
        "outputId": "763f854d-2a2b-489c-cfa8-318bd9c52d96"
      },
      "source": [
        "# deleting value  from list\r\n",
        "del l[1] # 2 will be deleted\r\n",
        "print(l)\r\n"
      ],
      "execution_count": 55,
      "outputs": [
        {
          "output_type": "stream",
          "text": [
            "['abc', 3, 4, 5, 6, 7, 8]\n"
          ],
          "name": "stdout"
        }
      ]
    },
    {
      "cell_type": "code",
      "metadata": {
        "colab": {
          "base_uri": "https://localhost:8080/"
        },
        "id": "EDmhtPd4PcdT",
        "outputId": "4363c776-c852-4cbf-ded3-2a61b754550f"
      },
      "source": [
        "#  list inside list\r\n",
        "\r\n",
        "l = [1,2,3,[4,5,6], 7, [8,9]]\r\n",
        "print(l)"
      ],
      "execution_count": 56,
      "outputs": [
        {
          "output_type": "stream",
          "text": [
            "[1, 2, 3, [4, 5, 6], 7, [8, 9]]\n"
          ],
          "name": "stdout"
        }
      ]
    },
    {
      "cell_type": "code",
      "metadata": {
        "colab": {
          "base_uri": "https://localhost:8080/"
        },
        "id": "-QYnOhYSPo-D",
        "outputId": "497ca8a2-0584-494f-f43d-6de0e938317f"
      },
      "source": [
        "print(l[3]) # prints [4,5,6] list"
      ],
      "execution_count": 57,
      "outputs": [
        {
          "output_type": "stream",
          "text": [
            "[4, 5, 6]\n"
          ],
          "name": "stdout"
        }
      ]
    },
    {
      "cell_type": "code",
      "metadata": {
        "colab": {
          "base_uri": "https://localhost:8080/"
        },
        "id": "STtRT80pP4-x",
        "outputId": "6fa2c847-fcd9-42c1-ddb1-ee53da9571b7"
      },
      "source": [
        "# access elemets fromlist which is inside of the another list\r\n",
        "print(l[3][0]) # prints 4"
      ],
      "execution_count": 58,
      "outputs": [
        {
          "output_type": "stream",
          "text": [
            "4\n"
          ],
          "name": "stdout"
        }
      ]
    },
    {
      "cell_type": "code",
      "metadata": {
        "colab": {
          "base_uri": "https://localhost:8080/"
        },
        "id": "mXKO93y9DNqP",
        "outputId": "cb8a9360-26f0-4b6a-a77f-46a79f7e8e60"
      },
      "source": [
        "dir(list()) # lists all the methods available for list"
      ],
      "execution_count": 59,
      "outputs": [
        {
          "output_type": "execute_result",
          "data": {
            "text/plain": [
              "['__add__',\n",
              " '__class__',\n",
              " '__contains__',\n",
              " '__delattr__',\n",
              " '__delitem__',\n",
              " '__dir__',\n",
              " '__doc__',\n",
              " '__eq__',\n",
              " '__format__',\n",
              " '__ge__',\n",
              " '__getattribute__',\n",
              " '__getitem__',\n",
              " '__gt__',\n",
              " '__hash__',\n",
              " '__iadd__',\n",
              " '__imul__',\n",
              " '__init__',\n",
              " '__init_subclass__',\n",
              " '__iter__',\n",
              " '__le__',\n",
              " '__len__',\n",
              " '__lt__',\n",
              " '__mul__',\n",
              " '__ne__',\n",
              " '__new__',\n",
              " '__reduce__',\n",
              " '__reduce_ex__',\n",
              " '__repr__',\n",
              " '__reversed__',\n",
              " '__rmul__',\n",
              " '__setattr__',\n",
              " '__setitem__',\n",
              " '__sizeof__',\n",
              " '__str__',\n",
              " '__subclasshook__',\n",
              " 'append',\n",
              " 'clear',\n",
              " 'copy',\n",
              " 'count',\n",
              " 'extend',\n",
              " 'index',\n",
              " 'insert',\n",
              " 'pop',\n",
              " 'remove',\n",
              " 'reverse',\n",
              " 'sort']"
            ]
          },
          "metadata": {
            "tags": []
          },
          "execution_count": 59
        }
      ]
    },
    {
      "cell_type": "code",
      "metadata": {
        "colab": {
          "base_uri": "https://localhost:8080/"
        },
        "id": "numc8RaTzH5a",
        "outputId": "6f527964-0c98-438d-80f1-f1fd6cc9d850"
      },
      "source": [
        "# append\r\n",
        "\r\n",
        "print(l)\r\n",
        "l.append(12)\r\n",
        "print(l)"
      ],
      "execution_count": 60,
      "outputs": [
        {
          "output_type": "stream",
          "text": [
            "[1, 2, 3, [4, 5, 6], 7, [8, 9]]\n",
            "[1, 2, 3, [4, 5, 6], 7, [8, 9], 12]\n"
          ],
          "name": "stdout"
        }
      ]
    },
    {
      "cell_type": "code",
      "metadata": {
        "colab": {
          "base_uri": "https://localhost:8080/"
        },
        "id": "uA3bpIwYzcOl",
        "outputId": "1044e639-1e3a-4f39-b10d-d9d1a8aba48e"
      },
      "source": [
        "# clear\r\n",
        "\r\n",
        "l.clear()  # clears the list.\r\n",
        "print(l)"
      ],
      "execution_count": 61,
      "outputs": [
        {
          "output_type": "stream",
          "text": [
            "[]\n"
          ],
          "name": "stdout"
        }
      ]
    },
    {
      "cell_type": "code",
      "metadata": {
        "colab": {
          "base_uri": "https://localhost:8080/"
        },
        "id": "jB_5GIb6zkrN",
        "outputId": "3018fde3-f586-4bb5-aef3-0da306a9fb6b"
      },
      "source": [
        "# copy\r\n",
        "\r\n",
        "l = [1, 2, 3, [4, 5, 6], 7, [8, 9]]\r\n",
        "lcopy = l.copy() # its copies the whole list\r\n",
        "print(lcopy)\r\n"
      ],
      "execution_count": 62,
      "outputs": [
        {
          "output_type": "stream",
          "text": [
            "[1, 2, 3, [4, 5, 6], 7, [8, 9]]\n"
          ],
          "name": "stdout"
        }
      ]
    },
    {
      "cell_type": "code",
      "metadata": {
        "colab": {
          "base_uri": "https://localhost:8080/"
        },
        "id": "1uec15A7zlVi",
        "outputId": "01b67d19-e642-484a-95ab-d3949e05b33d"
      },
      "source": [
        "# count\r\n",
        "\r\n",
        "l = [1, 2, 3, 4, 5, 3, 5, 2, 1]\r\n",
        "print(l.count(5)) # prints count of given elemet from list.\r\n"
      ],
      "execution_count": 63,
      "outputs": [
        {
          "output_type": "stream",
          "text": [
            "2\n"
          ],
          "name": "stdout"
        }
      ]
    },
    {
      "cell_type": "code",
      "metadata": {
        "colab": {
          "base_uri": "https://localhost:8080/"
        },
        "id": "GeRhRXgfzl4P",
        "outputId": "e839a393-70c5-4b72-9a54-bc8a2a80f397"
      },
      "source": [
        "# extends\r\n",
        "\r\n",
        "l = [1, 2, 3, 4, 5, 3, 5, 2, 1]\r\n",
        "l1 = [11, 22, 33, 44]\r\n",
        "\r\n",
        "l.extend(l1) # its extends the sequence of elements to current list.\r\n",
        "print(l)"
      ],
      "execution_count": 64,
      "outputs": [
        {
          "output_type": "stream",
          "text": [
            "[1, 2, 3, 4, 5, 3, 5, 2, 1, 11, 22, 33, 44]\n"
          ],
          "name": "stdout"
        }
      ]
    },
    {
      "cell_type": "code",
      "metadata": {
        "colab": {
          "base_uri": "https://localhost:8080/"
        },
        "id": "OTHldWmHzmmq",
        "outputId": "9db5c27c-9b66-4ada-ca05-b189be9d5555"
      },
      "source": [
        "# index\r\n",
        "\r\n",
        "l = [1, 2, 3, [4, 5, 6], 7, [8, 9]]\r\n",
        "print(l.index(2)) # returns the index of given element.\r\n"
      ],
      "execution_count": 65,
      "outputs": [
        {
          "output_type": "stream",
          "text": [
            "1\n"
          ],
          "name": "stdout"
        }
      ]
    },
    {
      "cell_type": "code",
      "metadata": {
        "colab": {
          "base_uri": "https://localhost:8080/"
        },
        "id": "ODzl_U2nzm00",
        "outputId": "bd8d5851-ef7b-423d-8305-db12e7c0627c"
      },
      "source": [
        "# insert\r\n",
        "\r\n",
        "l = [1, 2, 3, [4, 5, 6], 7, [8, 9]]\r\n",
        "l.insert(2, 33)  # position , value inserts the givent element at perticular position.\r\n",
        "print(l)"
      ],
      "execution_count": 66,
      "outputs": [
        {
          "output_type": "stream",
          "text": [
            "[1, 2, 33, 3, [4, 5, 6], 7, [8, 9]]\n"
          ],
          "name": "stdout"
        }
      ]
    },
    {
      "cell_type": "code",
      "metadata": {
        "colab": {
          "base_uri": "https://localhost:8080/"
        },
        "id": "grEudfmfznDL",
        "outputId": "6a139101-07f2-4bcc-b95f-42e0c13081b0"
      },
      "source": [
        "# pop\r\n",
        "\r\n",
        "l = [1, 2, 3, [4, 5, 6], 7, [8, 9]]\r\n",
        "print(l.pop()) # pops last element of list\r\n",
        "print(l)\r\n"
      ],
      "execution_count": 67,
      "outputs": [
        {
          "output_type": "stream",
          "text": [
            "[8, 9]\n",
            "[1, 2, 3, [4, 5, 6], 7]\n"
          ],
          "name": "stdout"
        }
      ]
    },
    {
      "cell_type": "code",
      "metadata": {
        "colab": {
          "base_uri": "https://localhost:8080/"
        },
        "id": "moWf_xaP0Vek",
        "outputId": "d4587d4b-3143-4730-d846-7b80491098f5"
      },
      "source": [
        "# remove\r\n",
        "\r\n",
        "l = [1, 2, 3, [4, 5, 6], 7, [8, 9]]\r\n",
        "l.remove(2) # removes first occurence of given element\r\n",
        "print(l)"
      ],
      "execution_count": 68,
      "outputs": [
        {
          "output_type": "stream",
          "text": [
            "[1, 3, [4, 5, 6], 7, [8, 9]]\n"
          ],
          "name": "stdout"
        }
      ]
    },
    {
      "cell_type": "code",
      "metadata": {
        "colab": {
          "base_uri": "https://localhost:8080/"
        },
        "id": "Fa3QTMlu0YGy",
        "outputId": "f13ab025-48f2-4f56-d44e-239828b87f87"
      },
      "source": [
        "# reverse\r\n",
        "\r\n",
        "l = [1, 2, 3, [4, 5, 6], 7, [8, 9]]\r\n",
        "l.reverse() # revesre the list and returns none\r\n",
        "print(l)"
      ],
      "execution_count": 69,
      "outputs": [
        {
          "output_type": "stream",
          "text": [
            "[[8, 9], 7, [4, 5, 6], 3, 2, 1]\n"
          ],
          "name": "stdout"
        }
      ]
    },
    {
      "cell_type": "code",
      "metadata": {
        "colab": {
          "base_uri": "https://localhost:8080/"
        },
        "id": "J4B079HO0YnK",
        "outputId": "b14f6203-146a-45c2-e129-a2d10d5d5b50"
      },
      "source": [
        "# sort\r\n",
        "\r\n",
        "l = [51, 22, 34, 4, 35, 62, 72, 83, 95]\r\n",
        "l.sort() # sorts the list and returns none\r\n",
        "print(l)"
      ],
      "execution_count": 70,
      "outputs": [
        {
          "output_type": "stream",
          "text": [
            "[4, 22, 34, 35, 51, 62, 72, 83, 95]\n"
          ],
          "name": "stdout"
        }
      ]
    },
    {
      "cell_type": "markdown",
      "metadata": {
        "id": "u-Xx7IJaXntF"
      },
      "source": [
        "## 4)**Tuples**\r\n",
        "\r\n",
        "*    It is also collection of diffrent types of datatypes.\r\n",
        "*    Tuples are **immutable**.\r\n",
        "*    we can create tuples with tuple() or ()."
      ]
    },
    {
      "cell_type": "code",
      "metadata": {
        "colab": {
          "base_uri": "https://localhost:8080/"
        },
        "id": "xqbk_wlkbCBo",
        "outputId": "728e04c4-816e-4efc-de39-1bcee25b8b62"
      },
      "source": [
        "t = (1,2,3)\r\n",
        "print(t)"
      ],
      "execution_count": 71,
      "outputs": [
        {
          "output_type": "stream",
          "text": [
            "(1, 2, 3)\n"
          ],
          "name": "stdout"
        }
      ]
    },
    {
      "cell_type": "code",
      "metadata": {
        "colab": {
          "base_uri": "https://localhost:8080/"
        },
        "id": "07vwe-b_Dd3l",
        "outputId": "ef33a37d-6906-46b4-f092-5870f3ad0aa7"
      },
      "source": [
        "# creating tuple with single value\r\n",
        "t = 5,\r\n",
        "print(t,type(t))"
      ],
      "execution_count": 72,
      "outputs": [
        {
          "output_type": "stream",
          "text": [
            "(5,) <class 'tuple'>\n"
          ],
          "name": "stdout"
        }
      ]
    },
    {
      "cell_type": "code",
      "metadata": {
        "colab": {
          "base_uri": "https://localhost:8080/"
        },
        "id": "4BspgR-rDlwc",
        "outputId": "3e07909e-b94d-4f41-dc6c-33d99bb182d7"
      },
      "source": [
        "# creating empty tuple\r\n",
        "t = ()\r\n",
        "print(type(t))"
      ],
      "execution_count": 73,
      "outputs": [
        {
          "output_type": "stream",
          "text": [
            "<class 'tuple'>\n"
          ],
          "name": "stdout"
        }
      ]
    },
    {
      "cell_type": "markdown",
      "metadata": {
        "id": "1R8NLMAgD_E9"
      },
      "source": [
        "we can also perform slicing on tuple.<br>\r\n",
        "but we can not assign values to the perticular index like list"
      ]
    },
    {
      "cell_type": "code",
      "metadata": {
        "colab": {
          "base_uri": "https://localhost:8080/"
        },
        "id": "UcWC6Y0VDtrE",
        "outputId": "3853873b-7db6-472e-e489-3b223acf857b"
      },
      "source": [
        "t = (1,2,3,4,5)\r\n",
        "print(t[0:3])\r\n",
        "print(t[3:])\r\n",
        "print(t[:])\r\n"
      ],
      "execution_count": 74,
      "outputs": [
        {
          "output_type": "stream",
          "text": [
            "(1, 2, 3)\n",
            "(4, 5)\n",
            "(1, 2, 3, 4, 5)\n"
          ],
          "name": "stdout"
        }
      ]
    },
    {
      "cell_type": "code",
      "metadata": {
        "colab": {
          "base_uri": "https://localhost:8080/"
        },
        "id": "IXkP0QdMEMNs",
        "outputId": "4a463a26-3374-4dc6-9360-4a4686a0c1a5"
      },
      "source": [
        "# tuple concatination\r\n",
        "\r\n",
        "t1 = (1,2,3,4,5)\r\n",
        "t2 = (5,6,7,8)\r\n",
        "t = t1+t2\r\n",
        "print(t)\r\n"
      ],
      "execution_count": 75,
      "outputs": [
        {
          "output_type": "stream",
          "text": [
            "(1, 2, 3, 4, 5, 5, 6, 7, 8)\n"
          ],
          "name": "stdout"
        }
      ]
    },
    {
      "cell_type": "code",
      "metadata": {
        "colab": {
          "base_uri": "https://localhost:8080/"
        },
        "id": "yp99nGilFOrs",
        "outputId": "7e68f77a-c49e-472c-b6e8-79657f1b0b1c"
      },
      "source": [
        "dir(tuple())"
      ],
      "execution_count": 76,
      "outputs": [
        {
          "output_type": "execute_result",
          "data": {
            "text/plain": [
              "['__add__',\n",
              " '__class__',\n",
              " '__contains__',\n",
              " '__delattr__',\n",
              " '__dir__',\n",
              " '__doc__',\n",
              " '__eq__',\n",
              " '__format__',\n",
              " '__ge__',\n",
              " '__getattribute__',\n",
              " '__getitem__',\n",
              " '__getnewargs__',\n",
              " '__gt__',\n",
              " '__hash__',\n",
              " '__init__',\n",
              " '__init_subclass__',\n",
              " '__iter__',\n",
              " '__le__',\n",
              " '__len__',\n",
              " '__lt__',\n",
              " '__mul__',\n",
              " '__ne__',\n",
              " '__new__',\n",
              " '__reduce__',\n",
              " '__reduce_ex__',\n",
              " '__repr__',\n",
              " '__rmul__',\n",
              " '__setattr__',\n",
              " '__sizeof__',\n",
              " '__str__',\n",
              " '__subclasshook__',\n",
              " 'count',\n",
              " 'index']"
            ]
          },
          "metadata": {
            "tags": []
          },
          "execution_count": 76
        }
      ]
    },
    {
      "cell_type": "code",
      "metadata": {
        "colab": {
          "base_uri": "https://localhost:8080/"
        },
        "id": "6n1W1f0T4IO8",
        "outputId": "42356aa0-082b-4dde-f05a-3bd585bf9fd1"
      },
      "source": [
        "# count\r\n",
        "\r\n",
        "print(t1.count(1))"
      ],
      "execution_count": 77,
      "outputs": [
        {
          "output_type": "stream",
          "text": [
            "1\n"
          ],
          "name": "stdout"
        }
      ]
    },
    {
      "cell_type": "code",
      "metadata": {
        "colab": {
          "base_uri": "https://localhost:8080/"
        },
        "id": "JKZkLbM94Pjo",
        "outputId": "9322c3cf-90d8-4e64-ac44-1d09ed105740"
      },
      "source": [
        "# index\r\n",
        "\r\n",
        "print(t1.index(3))"
      ],
      "execution_count": 78,
      "outputs": [
        {
          "output_type": "stream",
          "text": [
            "2\n"
          ],
          "name": "stdout"
        }
      ]
    },
    {
      "cell_type": "markdown",
      "metadata": {
        "id": "aNQKihJkGH1b"
      },
      "source": [
        "## 5) **Dictionary**\r\n",
        "\r\n",
        "*   **Dictionary** consist of key value pairs.\r\n",
        "*   Dictionary is a **mutable** datatype.\r\n",
        "*   we can create them using {}.\r\n",
        "\r\n"
      ]
    },
    {
      "cell_type": "code",
      "metadata": {
        "colab": {
          "base_uri": "https://localhost:8080/"
        },
        "id": "cm0MdqzvFbD8",
        "outputId": "4283eff3-8998-470f-877b-6af0cab94c18"
      },
      "source": [
        "d = {'roll_number':12, 'name':'swapnil', 'age':24}\r\n",
        "print(d)"
      ],
      "execution_count": 79,
      "outputs": [
        {
          "output_type": "stream",
          "text": [
            "{'roll_number': 12, 'name': 'swapnil', 'age': 24}\n"
          ],
          "name": "stdout"
        }
      ]
    },
    {
      "cell_type": "code",
      "metadata": {
        "colab": {
          "base_uri": "https://localhost:8080/"
        },
        "id": "zcZgRPeLHN4O",
        "outputId": "10629f34-6b39-42bb-9d03-84f7bc9d553b"
      },
      "source": [
        "# indexing using keys  \r\n",
        "\r\n",
        "print(d['age'])\r\n",
        "print(d['name'])"
      ],
      "execution_count": 80,
      "outputs": [
        {
          "output_type": "stream",
          "text": [
            "24\n",
            "swapnil\n"
          ],
          "name": "stdout"
        }
      ]
    },
    {
      "cell_type": "code",
      "metadata": {
        "colab": {
          "base_uri": "https://localhost:8080/"
        },
        "id": "A483A7moHcA8",
        "outputId": "173bb15e-72eb-44d3-d42b-6f0bcbf9380d"
      },
      "source": [
        "# assignment\r\n",
        "\r\n",
        "print(d['age']) #before\r\n",
        "d['age']=30\r\n",
        "print(d['age']) #after"
      ],
      "execution_count": 81,
      "outputs": [
        {
          "output_type": "stream",
          "text": [
            "24\n",
            "30\n"
          ],
          "name": "stdout"
        }
      ]
    },
    {
      "cell_type": "code",
      "metadata": {
        "colab": {
          "base_uri": "https://localhost:8080/"
        },
        "id": "KysxHpA9Hmp8",
        "outputId": "5ab0116e-9f81-4f15-f0b7-cdfcc2551a0f"
      },
      "source": [
        "dir({})"
      ],
      "execution_count": 82,
      "outputs": [
        {
          "output_type": "execute_result",
          "data": {
            "text/plain": [
              "['__class__',\n",
              " '__contains__',\n",
              " '__delattr__',\n",
              " '__delitem__',\n",
              " '__dir__',\n",
              " '__doc__',\n",
              " '__eq__',\n",
              " '__format__',\n",
              " '__ge__',\n",
              " '__getattribute__',\n",
              " '__getitem__',\n",
              " '__gt__',\n",
              " '__hash__',\n",
              " '__init__',\n",
              " '__init_subclass__',\n",
              " '__iter__',\n",
              " '__le__',\n",
              " '__len__',\n",
              " '__lt__',\n",
              " '__ne__',\n",
              " '__new__',\n",
              " '__reduce__',\n",
              " '__reduce_ex__',\n",
              " '__repr__',\n",
              " '__setattr__',\n",
              " '__setitem__',\n",
              " '__sizeof__',\n",
              " '__str__',\n",
              " '__subclasshook__',\n",
              " 'clear',\n",
              " 'copy',\n",
              " 'fromkeys',\n",
              " 'get',\n",
              " 'items',\n",
              " 'keys',\n",
              " 'pop',\n",
              " 'popitem',\n",
              " 'setdefault',\n",
              " 'update',\n",
              " 'values']"
            ]
          },
          "metadata": {
            "tags": []
          },
          "execution_count": 82
        }
      ]
    },
    {
      "cell_type": "code",
      "metadata": {
        "colab": {
          "base_uri": "https://localhost:8080/"
        },
        "id": "Av2TU5YGInR7",
        "outputId": "344763b7-a7df-4f99-9267-0ac964b1e9d0"
      },
      "source": [
        "# keys\r\n",
        "\r\n",
        "d = {'roll_number':12, 'name':'swapnil', 'age':24}\r\n",
        "keys = d.keys()\r\n",
        "print(keys)"
      ],
      "execution_count": 83,
      "outputs": [
        {
          "output_type": "stream",
          "text": [
            "dict_keys(['roll_number', 'name', 'age'])\n"
          ],
          "name": "stdout"
        }
      ]
    },
    {
      "cell_type": "code",
      "metadata": {
        "colab": {
          "base_uri": "https://localhost:8080/"
        },
        "id": "tE87d8k4IzDl",
        "outputId": "d9c3f8c0-7df8-4f51-fac3-8c09b04f8d2d"
      },
      "source": [
        "# values\r\n",
        "\r\n",
        "d = {'roll_number':12, 'name':'swapnil', 'age':24}\r\n",
        "values = d.values()\r\n",
        "print(values)"
      ],
      "execution_count": 84,
      "outputs": [
        {
          "output_type": "stream",
          "text": [
            "dict_values([12, 'swapnil', 24])\n"
          ],
          "name": "stdout"
        }
      ]
    },
    {
      "cell_type": "code",
      "metadata": {
        "colab": {
          "base_uri": "https://localhost:8080/"
        },
        "id": "YnAfHGvzI5qz",
        "outputId": "8f5ff9c3-fbcd-48ad-ee19-38850f9f3584"
      },
      "source": [
        "# items\r\n",
        "\r\n",
        "d = {'roll_number':12, 'name':'swapnil', 'age':24}\r\n",
        "print(d.items())"
      ],
      "execution_count": 85,
      "outputs": [
        {
          "output_type": "stream",
          "text": [
            "dict_items([('roll_number', 12), ('name', 'swapnil'), ('age', 24)])\n"
          ],
          "name": "stdout"
        }
      ]
    },
    {
      "cell_type": "code",
      "metadata": {
        "colab": {
          "base_uri": "https://localhost:8080/"
        },
        "id": "tcgsTkHG4eu6",
        "outputId": "32cc30c7-b275-4c5f-bcdd-5006736782a1"
      },
      "source": [
        "# copy\r\n",
        "\r\n",
        "d = {'roll_number':12, 'name':'swapnil', 'age':24}\r\n",
        "dcopy = d.copy()\r\n",
        "print(dcopy)"
      ],
      "execution_count": 86,
      "outputs": [
        {
          "output_type": "stream",
          "text": [
            "{'roll_number': 12, 'name': 'swapnil', 'age': 24}\n"
          ],
          "name": "stdout"
        }
      ]
    },
    {
      "cell_type": "code",
      "metadata": {
        "colab": {
          "base_uri": "https://localhost:8080/"
        },
        "id": "qOsVAJM74fTR",
        "outputId": "938f4925-2832-43dd-b92c-87e996b6ad55"
      },
      "source": [
        "# get\r\n",
        "\r\n",
        "d = {'roll_number':12, 'name':'swapnil', 'age':24}\r\n",
        "print(d.get('name'))"
      ],
      "execution_count": 87,
      "outputs": [
        {
          "output_type": "stream",
          "text": [
            "swapnil\n"
          ],
          "name": "stdout"
        }
      ]
    },
    {
      "cell_type": "code",
      "metadata": {
        "colab": {
          "base_uri": "https://localhost:8080/"
        },
        "id": "P9YwxElk4ftZ",
        "outputId": "4178762e-ab2c-4690-a7e1-0f16200736b9"
      },
      "source": [
        "# pop\r\n",
        "\r\n",
        "d = {'roll_number':12, 'name':'swapnil', 'age':24}\r\n",
        "print(d.pop('name'))"
      ],
      "execution_count": 88,
      "outputs": [
        {
          "output_type": "stream",
          "text": [
            "swapnil\n"
          ],
          "name": "stdout"
        }
      ]
    },
    {
      "cell_type": "code",
      "metadata": {
        "colab": {
          "base_uri": "https://localhost:8080/"
        },
        "id": "siTua5mN4eUh",
        "outputId": "c3a0dad0-f624-47e5-f1d4-9eead7e15cce"
      },
      "source": [
        "# clear\r\n",
        "\r\n",
        "d = {'roll_number':12, 'name':'swapnil', 'age':24}\r\n",
        "d.clear()\r\n",
        "print(d)"
      ],
      "execution_count": 89,
      "outputs": [
        {
          "output_type": "stream",
          "text": [
            "{}\n"
          ],
          "name": "stdout"
        }
      ]
    },
    {
      "cell_type": "code",
      "metadata": {
        "colab": {
          "base_uri": "https://localhost:8080/"
        },
        "id": "xKHTffZA4fEJ",
        "outputId": "dfbc61d8-5518-468a-f6b1-598f2e5c3cab"
      },
      "source": [
        "# fromkeys\r\n",
        "\r\n",
        "d = {'roll_number':12, 'name':'swapnil', 'age':24}\r\n",
        "print(d.fromkeys([1,2,3,4],11 ))\r\n"
      ],
      "execution_count": 90,
      "outputs": [
        {
          "output_type": "stream",
          "text": [
            "{1: 11, 2: 11, 3: 11, 4: 11}\n"
          ],
          "name": "stdout"
        }
      ]
    },
    {
      "cell_type": "code",
      "metadata": {
        "id": "8xJogy0N4gNK"
      },
      "source": [
        "# popitem"
      ],
      "execution_count": 91,
      "outputs": []
    },
    {
      "cell_type": "code",
      "metadata": {
        "id": "8Hr5oPyz4gfh"
      },
      "source": [
        "# setdefault"
      ],
      "execution_count": 92,
      "outputs": []
    },
    {
      "cell_type": "code",
      "metadata": {
        "id": "19Bvlvyf4grx"
      },
      "source": [
        "# update"
      ],
      "execution_count": 93,
      "outputs": []
    },
    {
      "cell_type": "markdown",
      "metadata": {
        "id": "Sul7DlzKJka6"
      },
      "source": [
        "## 6) Set\r\n",
        "\r\n",
        "*   **Set** is a unorder list of unique items.\r\n",
        "*   Sets are **mutable**.\r\n",
        "*   It dose not support indexing."
      ]
    },
    {
      "cell_type": "code",
      "metadata": {
        "colab": {
          "base_uri": "https://localhost:8080/"
        },
        "id": "aBh0havVIlTE",
        "outputId": "a9764d73-4635-4726-b268-2435b364f80e"
      },
      "source": [
        "\r\n",
        "s = set([1,2,3,2,14,6,4,14,6,7])\r\n",
        "print(s)"
      ],
      "execution_count": 94,
      "outputs": [
        {
          "output_type": "stream",
          "text": [
            "{1, 2, 3, 4, 6, 7, 14}\n"
          ],
          "name": "stdout"
        }
      ]
    },
    {
      "cell_type": "code",
      "metadata": {
        "colab": {
          "base_uri": "https://localhost:8080/"
        },
        "id": "-zkcP7YqKIAr",
        "outputId": "3600ce50-cf71-45d7-878a-8a4028d2b0ea"
      },
      "source": [
        "# we can also create set like given below.\r\n",
        "\r\n",
        "s = {1,2,3,2,14,6,4,14,6,7}\r\n",
        "print(s)"
      ],
      "execution_count": 95,
      "outputs": [
        {
          "output_type": "stream",
          "text": [
            "{1, 2, 3, 4, 6, 7, 14}\n"
          ],
          "name": "stdout"
        }
      ]
    },
    {
      "cell_type": "code",
      "metadata": {
        "colab": {
          "base_uri": "https://localhost:8080/"
        },
        "id": "4Xa8t7zoKwBq",
        "outputId": "7c812465-a0d4-4849-8fdd-854213597b0d"
      },
      "source": [
        "dir(set())"
      ],
      "execution_count": 96,
      "outputs": [
        {
          "output_type": "execute_result",
          "data": {
            "text/plain": [
              "['__and__',\n",
              " '__class__',\n",
              " '__contains__',\n",
              " '__delattr__',\n",
              " '__dir__',\n",
              " '__doc__',\n",
              " '__eq__',\n",
              " '__format__',\n",
              " '__ge__',\n",
              " '__getattribute__',\n",
              " '__gt__',\n",
              " '__hash__',\n",
              " '__iand__',\n",
              " '__init__',\n",
              " '__init_subclass__',\n",
              " '__ior__',\n",
              " '__isub__',\n",
              " '__iter__',\n",
              " '__ixor__',\n",
              " '__le__',\n",
              " '__len__',\n",
              " '__lt__',\n",
              " '__ne__',\n",
              " '__new__',\n",
              " '__or__',\n",
              " '__rand__',\n",
              " '__reduce__',\n",
              " '__reduce_ex__',\n",
              " '__repr__',\n",
              " '__ror__',\n",
              " '__rsub__',\n",
              " '__rxor__',\n",
              " '__setattr__',\n",
              " '__sizeof__',\n",
              " '__str__',\n",
              " '__sub__',\n",
              " '__subclasshook__',\n",
              " '__xor__',\n",
              " 'add',\n",
              " 'clear',\n",
              " 'copy',\n",
              " 'difference',\n",
              " 'difference_update',\n",
              " 'discard',\n",
              " 'intersection',\n",
              " 'intersection_update',\n",
              " 'isdisjoint',\n",
              " 'issubset',\n",
              " 'issuperset',\n",
              " 'pop',\n",
              " 'remove',\n",
              " 'symmetric_difference',\n",
              " 'symmetric_difference_update',\n",
              " 'union',\n",
              " 'update']"
            ]
          },
          "metadata": {
            "tags": []
          },
          "execution_count": 96
        }
      ]
    },
    {
      "cell_type": "markdown",
      "metadata": {
        "id": "bK9dlZs9K-OZ"
      },
      "source": [
        "## **Exercise**\r\n",
        "\r\n",
        "*   Perform all available methods for perticular datatype except methods starts with **double underscore (__)**.\r\n",
        "*   Use **help()** function to check how to use them."
      ]
    },
    {
      "cell_type": "markdown",
      "metadata": {
        "id": "UFX04SCjLyhD"
      },
      "source": [
        "# 5) MUTABLE AND IMMUTABLE\r\n",
        "\r\n",
        "**1.   Mutable** means we can change variables value after they created.\r\n",
        "*   **Examples**: Integer, String and Tuples.<br>\r\n",
        "\r\n",
        "*   Lets see in mutable datatypes, if a=10 and b=15 we can use id() to check the memory location of variable a and b.\r\n",
        "*   Now we assign variable a to variable c, the variable c point to the same memory location that a is pointing to.\r\n",
        "*   But if we change the value of 'a' to 20 will \r\n",
        "it will point to diffrent location.\r\n",
        "*   So, it means now  variables a and c pointing to diffrent locations.\r\n",
        "*   It means that, we can not change the value of that perticular memory location.\r\n",
        "\r\n",
        "<hr>\r\n",
        "\r\n",
        "**2.   Immutable** means we can not change variables value after they created.\r\n",
        "*   **Examples**: List, Set and Dictionary.\r\n",
        "\r\n",
        "*   Lets see in immutable datatypes, if a=[1,2,3,4] and b=[6,7,8,9] we can use id() to check the memory location of variable a and b.\r\n",
        "*   Now we assign variable a to variable c, the variable c point to the same memory location that a is pointing to.\r\n",
        "*   But if we append the 12 to variable a still both a and c points to the same location. \r\n",
        "*   It means that, we can change the value of that perticular memory location\r\n",
        "\r\n",
        "\r\n",
        "<br><hr>\r\n",
        "\r\n",
        "*   In python every variable is reference to the \r\n",
        "memory location where the data is stored.<br> \r\n",
        "*   for better understanding look below cells."
      ]
    },
    {
      "cell_type": "code",
      "metadata": {
        "id": "-Sk5AMxeK12S",
        "colab": {
          "base_uri": "https://localhost:8080/"
        },
        "outputId": "856c8f59-77b4-408a-ce0a-995a259448b9"
      },
      "source": [
        "# mutable\r\n",
        "a=10\r\n",
        "b=15\r\n",
        "print('Id of a = ', id(a), 'value of a', a)\r\n",
        "print('Id of b = ', id(b))\r\n",
        "\r\n",
        "c=a\r\n",
        "print('\\nId of c = ', id(c), 'value of c', c)\r\n",
        "\r\n",
        "a=20\r\n",
        "print('\\nId of a = ', id(a), 'value of a', a)\r\n",
        "print('Id of c = ', id(c), 'value of c', c)\r\n"
      ],
      "execution_count": 97,
      "outputs": [
        {
          "output_type": "stream",
          "text": [
            "Id of a =  10914784 value of a 10\n",
            "Id of b =  10914944\n",
            "\n",
            "Id of c =  10914784 value of c 10\n",
            "\n",
            "Id of a =  10915104 value of a 20\n",
            "Id of c =  10914784 value of c 10\n"
          ],
          "name": "stdout"
        }
      ]
    },
    {
      "cell_type": "code",
      "metadata": {
        "colab": {
          "base_uri": "https://localhost:8080/"
        },
        "id": "eD0Wcerg25zJ",
        "outputId": "90699738-1ce6-4321-afdf-e09ffcfe6bec"
      },
      "source": [
        "# immutabble\r\n",
        "\r\n",
        "a = [1,2,3,4]\r\n",
        "b = [6,7,8,9]\r\n",
        "\r\n",
        "print('Id of a = ', id(a), 'value of a', a)\r\n",
        "print('Id of b = ', id(b))\r\n",
        "\r\n",
        "c = a\r\n",
        "print('\\nId of c = ', id(c), 'value of a', a)\r\n",
        "\r\n",
        "a+=[12]\r\n",
        "print('\\nId of a = ', id(a), 'value of a', a)\r\n",
        "print('Id of c = ', id(c), 'value of c', c)\r\n",
        "\r\n"
      ],
      "execution_count": 98,
      "outputs": [
        {
          "output_type": "stream",
          "text": [
            "Id of a =  139805512478792 value of a [1, 2, 3, 4]\n",
            "Id of b =  139805511862024\n",
            "\n",
            "Id of c =  139805512478792 value of a [1, 2, 3, 4]\n",
            "\n",
            "Id of a =  139805512478792 value of a [1, 2, 3, 4, 12]\n",
            "Id of c =  139805512478792 value of c [1, 2, 3, 4, 12]\n"
          ],
          "name": "stdout"
        }
      ]
    },
    {
      "cell_type": "markdown",
      "metadata": {
        "id": "cBMhDK_JNdtu"
      },
      "source": [
        "# 6) CONDITIONAL STATMENTS"
      ]
    },
    {
      "cell_type": "markdown",
      "metadata": {
        "id": "eGQ7NTYWNkTt"
      },
      "source": [
        "## 1) if\r\n",
        "\r\n",
        "*  It is used to ckeck the given condition.\r\n",
        "*  syntax : \r\n",
        ">  if condition: \r\n",
        ">>statments\r\n"
      ]
    },
    {
      "cell_type": "code",
      "metadata": {
        "colab": {
          "base_uri": "https://localhost:8080/"
        },
        "id": "-abXsi71Niw9",
        "outputId": "bb3366fe-de66-4250-8f62-a90e89efc681"
      },
      "source": [
        "a = 10\r\n",
        "if a==10:\r\n",
        "  print('value of a is 10')"
      ],
      "execution_count": 99,
      "outputs": [
        {
          "output_type": "stream",
          "text": [
            "value of a is 10\n"
          ],
          "name": "stdout"
        }
      ]
    },
    {
      "cell_type": "code",
      "metadata": {
        "colab": {
          "base_uri": "https://localhost:8080/"
        },
        "id": "WiC1_GGOOHqJ",
        "outputId": "40266d38-4d28-4d25-88f3-5c97db30dc47"
      },
      "source": [
        "a = 100\r\n",
        "if a>10:\r\n",
        "  print('value of a is greater than 10')"
      ],
      "execution_count": 100,
      "outputs": [
        {
          "output_type": "stream",
          "text": [
            "value of a is greater than 10\n"
          ],
          "name": "stdout"
        }
      ]
    },
    {
      "cell_type": "code",
      "metadata": {
        "colab": {
          "base_uri": "https://localhost:8080/"
        },
        "id": "zozVTkYnOHnB",
        "outputId": "cbd07939-bf28-47aa-8ee9-08d3d13e6787"
      },
      "source": [
        "a = 1\r\n",
        "if a<10:\r\n",
        "  print('value of a is less than 10')"
      ],
      "execution_count": 101,
      "outputs": [
        {
          "output_type": "stream",
          "text": [
            "value of a is less than 10\n"
          ],
          "name": "stdout"
        }
      ]
    },
    {
      "cell_type": "code",
      "metadata": {
        "colab": {
          "base_uri": "https://localhost:8080/"
        },
        "id": "el6A7mU-OHd0",
        "outputId": "1c50dd58-d501-4cf7-c3fc-2cfd9b9871b8"
      },
      "source": [
        "a = 5\r\n",
        "if a!=10:\r\n",
        "  print('value of a is not equals to10')"
      ],
      "execution_count": 102,
      "outputs": [
        {
          "output_type": "stream",
          "text": [
            "value of a is not equals to10\n"
          ],
          "name": "stdout"
        }
      ]
    },
    {
      "cell_type": "markdown",
      "metadata": {
        "id": "-HCgYOBxOcTE"
      },
      "source": [
        "## 2) if else\r\n",
        "\r\n",
        "*  if the given condition is false then it will executes statments from else block. "
      ]
    },
    {
      "cell_type": "code",
      "metadata": {
        "colab": {
          "base_uri": "https://localhost:8080/"
        },
        "id": "8RLoNkMmOtOH",
        "outputId": "58f577ca-e5ff-4f87-c617-2d5b18f5240f"
      },
      "source": [
        "a = 10\r\n",
        "if a!=10:\r\n",
        "  print('value of a is not equal to 10')\r\n",
        "else:\r\n",
        "  print('value of a is 10')"
      ],
      "execution_count": 103,
      "outputs": [
        {
          "output_type": "stream",
          "text": [
            "value of a is 10\n"
          ],
          "name": "stdout"
        }
      ]
    },
    {
      "cell_type": "markdown",
      "metadata": {
        "id": "TD1uvV3vO_wm"
      },
      "source": [
        "## 3) nested if else"
      ]
    },
    {
      "cell_type": "code",
      "metadata": {
        "colab": {
          "base_uri": "https://localhost:8080/"
        },
        "id": "ADxpmz3qO_AW",
        "outputId": "05436682-4475-4033-bd79-e2cb8427af36"
      },
      "source": [
        "a = 100\r\n",
        "if a>10:\r\n",
        "  print()\r\n",
        "  if a==100:\r\n",
        "    print('value of a is not equal to 10')\r\n",
        "else:\r\n",
        "  print('value of a is 10')"
      ],
      "execution_count": 126,
      "outputs": [
        {
          "output_type": "stream",
          "text": [
            "\n",
            "value of a is not equal to 10\n"
          ],
          "name": "stdout"
        }
      ]
    },
    {
      "cell_type": "markdown",
      "metadata": {
        "id": "FQ1mDxV-HdFC"
      },
      "source": [
        "# 7) LOOPS"
      ]
    },
    {
      "cell_type": "markdown",
      "metadata": {
        "id": "qhW2a8I8Jtfb"
      },
      "source": [
        "## 1) range()\r\n",
        "\r\n",
        "*  range() function is more frequently used with for loop.\r\n",
        "*  range function creates a squence from starting value to end value.\r\n",
        "*  It takes 3 args start, end, step\r\n",
        "*  sequence starts from start value and ends to end value(excluded).  \r\n",
        "*  step is used to make diffrence between two values. "
      ]
    },
    {
      "cell_type": "code",
      "metadata": {
        "colab": {
          "base_uri": "https://localhost:8080/"
        },
        "id": "rRZDgqAdJU1o",
        "outputId": "9da72946-0b93-4b26-ab89-cec4929280b9"
      },
      "source": [
        "# range\r\n",
        "\r\n",
        "a = range(1, 10) # create sequence form value 1 to 10 (10 is excluded)\r\n",
        "print(a)\r\n",
        "print(list(a))"
      ],
      "execution_count": 127,
      "outputs": [
        {
          "output_type": "stream",
          "text": [
            "range(1, 10)\n",
            "[1, 2, 3, 4, 5, 6, 7, 8, 9]\n"
          ],
          "name": "stdout"
        }
      ]
    },
    {
      "cell_type": "code",
      "metadata": {
        "colab": {
          "base_uri": "https://localhost:8080/"
        },
        "id": "N7BOJQGlKv3z",
        "outputId": "2fa27a53-bdec-463e-982f-251aa0c6f4b6"
      },
      "source": [
        "\r\n",
        "a = range(1, 10, 2) # create sequence form value 1 to 10 (10 is excluded)\r\n",
        "print(a)\r\n",
        "print(list(a))"
      ],
      "execution_count": 128,
      "outputs": [
        {
          "output_type": "stream",
          "text": [
            "range(1, 10, 2)\n",
            "[1, 3, 5, 7, 9]\n"
          ],
          "name": "stdout"
        }
      ]
    },
    {
      "cell_type": "code",
      "metadata": {
        "colab": {
          "base_uri": "https://localhost:8080/"
        },
        "id": "ybslF3HXLD60",
        "outputId": "fb3693cf-bab7-4e23-aedd-0003d5ebd79c"
      },
      "source": [
        "\r\n",
        "a = range(1, 10, 5) # create sequence form value 1 to 10 (10 is excluded)\r\n",
        "print(a)\r\n",
        "print(list(a))"
      ],
      "execution_count": 129,
      "outputs": [
        {
          "output_type": "stream",
          "text": [
            "range(1, 10, 5)\n",
            "[1, 6]\n"
          ],
          "name": "stdout"
        }
      ]
    },
    {
      "cell_type": "markdown",
      "metadata": {
        "id": "B7pINTAFHf8h"
      },
      "source": [
        "## 2) for\r\n",
        "\r\n",
        "*  for loop is used to iterate over the sequence.\r\n",
        "*  for loop in python is little diffrent than other languages."
      ]
    },
    {
      "cell_type": "code",
      "metadata": {
        "colab": {
          "base_uri": "https://localhost:8080/"
        },
        "id": "v4NEMz9h4jTY",
        "outputId": "f5e72b98-3f41-47cd-d94d-75e7f2d9c22f"
      },
      "source": [
        "a = [1, 2, 3, 4] # list\r\n",
        "for i in a:      # iterate over list\r\n",
        "  print(i, end=',')"
      ],
      "execution_count": 130,
      "outputs": [
        {
          "output_type": "stream",
          "text": [
            "1,2,3,4,"
          ],
          "name": "stdout"
        }
      ]
    },
    {
      "cell_type": "code",
      "metadata": {
        "colab": {
          "base_uri": "https://localhost:8080/"
        },
        "id": "sjKp49a5LNjJ",
        "outputId": "c62ff179-9fb2-415a-95d4-42d660e30b98"
      },
      "source": [
        "# using range \r\n",
        "\r\n",
        "for i in range(1, 10):      # iterate over list\r\n",
        "  print(i, end=',')"
      ],
      "execution_count": 131,
      "outputs": [
        {
          "output_type": "stream",
          "text": [
            "1,2,3,4,5,6,7,8,9,"
          ],
          "name": "stdout"
        }
      ]
    },
    {
      "cell_type": "markdown",
      "metadata": {
        "id": "8e8aOyK1SUOK"
      },
      "source": [
        "## 3) for else\r\n"
      ]
    },
    {
      "cell_type": "code",
      "metadata": {
        "colab": {
          "base_uri": "https://localhost:8080/"
        },
        "id": "M0JQLpM6SXsy",
        "outputId": "03de838a-0532-4339-86bf-99e8b5ccc173"
      },
      "source": [
        "for i in range(1, 10):      # iterate over list\r\n",
        "  print(i, end=',')\r\n",
        "else:\r\n",
        "  print('\\nelse block...')"
      ],
      "execution_count": 132,
      "outputs": [
        {
          "output_type": "stream",
          "text": [
            "1,2,3,4,5,6,7,8,9,\n",
            "else block...\n"
          ],
          "name": "stdout"
        }
      ]
    },
    {
      "cell_type": "markdown",
      "metadata": {
        "id": "7gqBJ00qMtL4"
      },
      "source": [
        "## 4) while\r\n",
        "\r\n",
        "*  It execuits the block of code only when given condition is true. "
      ]
    },
    {
      "cell_type": "code",
      "metadata": {
        "colab": {
          "base_uri": "https://localhost:8080/"
        },
        "id": "8dsF0vZZMrEN",
        "outputId": "3e205e1e-e373-4f62-c5b3-ff450083d634"
      },
      "source": [
        "a=10\r\n",
        "while a>=1:\r\n",
        "  print(a)\r\n",
        "  a-=1 "
      ],
      "execution_count": 133,
      "outputs": [
        {
          "output_type": "stream",
          "text": [
            "10\n",
            "9\n",
            "8\n",
            "7\n",
            "6\n",
            "5\n",
            "4\n",
            "3\n",
            "2\n",
            "1\n"
          ],
          "name": "stdout"
        }
      ]
    },
    {
      "cell_type": "markdown",
      "metadata": {
        "id": "QlUU8xDRR9B4"
      },
      "source": [
        "## 5) while else\r\n"
      ]
    },
    {
      "cell_type": "code",
      "metadata": {
        "colab": {
          "base_uri": "https://localhost:8080/"
        },
        "id": "0nm-gGeVLSQt",
        "outputId": "4ac4b566-d60c-4033-f026-8308375751fd"
      },
      "source": [
        "a=10\r\n",
        "while a>=1:\r\n",
        "  print(a)\r\n",
        "  a-=1 \r\n",
        "else:\r\n",
        "  print('value ofa is less than 1')"
      ],
      "execution_count": 134,
      "outputs": [
        {
          "output_type": "stream",
          "text": [
            "10\n",
            "9\n",
            "8\n",
            "7\n",
            "6\n",
            "5\n",
            "4\n",
            "3\n",
            "2\n",
            "1\n",
            "value ofa is less than 1\n"
          ],
          "name": "stdout"
        }
      ]
    },
    {
      "cell_type": "markdown",
      "metadata": {
        "id": "zSJEBEvQS36l"
      },
      "source": [
        "# 8) FUNCTIONS\r\n",
        "\r\n",
        "*   **functions** are nothing but execution of block of code.\r\n",
        "*   It minimizes the lines in the program.\r\n",
        "*   It takes multiple arguments.\r\n",
        "*   It can also return multiple values.\r\n",
        "*   **def** keyword is used to create function. "
      ]
    },
    {
      "cell_type": "code",
      "metadata": {
        "colab": {
          "base_uri": "https://localhost:8080/"
        },
        "id": "HfVa8J4YUS56",
        "outputId": "cb9f44f7-104b-4d22-ca2d-0a6a60da585a"
      },
      "source": [
        "# simple hello function\r\n",
        "\r\n",
        "def hello():   # function declaration.\r\n",
        "  print('Hello World....')\r\n",
        "\r\n",
        "hello()   # function call."
      ],
      "execution_count": 135,
      "outputs": [
        {
          "output_type": "stream",
          "text": [
            "Hello World....\n"
          ],
          "name": "stdout"
        }
      ]
    },
    {
      "cell_type": "markdown",
      "metadata": {
        "id": "g1dv9wogPN8g"
      },
      "source": [
        "## 1) Required Arguments\r\n",
        "\r\n",
        "*   In this type arguments have to passed in a function in correct positional order. \r\n",
        "*   Here, the number of arguments in the function call should match exactly with the function definition."
      ]
    },
    {
      "cell_type": "code",
      "metadata": {
        "colab": {
          "base_uri": "https://localhost:8080/"
        },
        "id": "AynHYhoAUroy",
        "outputId": "a0b1dd7a-614b-43b3-9e46-396f36ff9187"
      },
      "source": [
        "# function with arguments\r\n",
        "\r\n",
        "def add(a, b):\r\n",
        "  print('addition is = :', a+b)\r\n",
        "\r\n",
        "add(5, 10)"
      ],
      "execution_count": 136,
      "outputs": [
        {
          "output_type": "stream",
          "text": [
            "addition is = : 15\n"
          ],
          "name": "stdout"
        }
      ]
    },
    {
      "cell_type": "code",
      "metadata": {
        "colab": {
          "base_uri": "https://localhost:8080/"
        },
        "id": "lIqmc9U_U8tg",
        "outputId": "871b4807-ab8b-4b81-84f6-3ab557191962"
      },
      "source": [
        "# function with return statment.\r\n",
        "\r\n",
        "def add(a, b):\r\n",
        "  return a+b\r\n",
        "\r\n",
        "\r\n",
        "sum = add(5, 10)\r\n",
        "print('addition is = :', sum)\r\n"
      ],
      "execution_count": 137,
      "outputs": [
        {
          "output_type": "stream",
          "text": [
            "addition is = : 15\n"
          ],
          "name": "stdout"
        }
      ]
    },
    {
      "cell_type": "markdown",
      "metadata": {
        "id": "uXk6ZZ6EPUOO"
      },
      "source": [
        "## 2) Keyword Arguments\r\n",
        "\r\n",
        "*  In this type position of the argument dose not matter."
      ]
    },
    {
      "cell_type": "code",
      "metadata": {
        "colab": {
          "base_uri": "https://localhost:8080/"
        },
        "id": "oOw5496YP7qz",
        "outputId": "a754b746-43e8-4168-b34a-7281b232d7a0"
      },
      "source": [
        "def add(a, b):\r\n",
        "  return a+b\r\n",
        "\r\n",
        "\r\n",
        "sum = add(a=5, b=10)\r\n",
        "print('addition is = :', sum)\r\n",
        "\r\n",
        "sum = add(b=15, a=20)\r\n",
        "print('addition is = :', sum)"
      ],
      "execution_count": 138,
      "outputs": [
        {
          "output_type": "stream",
          "text": [
            "addition is = : 15\n",
            "addition is = : 35\n"
          ],
          "name": "stdout"
        }
      ]
    },
    {
      "cell_type": "markdown",
      "metadata": {
        "id": "DfpJQoovMspR"
      },
      "source": [
        "## 3) Default Arguments\r\n",
        "\r\n",
        "*  In this type, we are passing default value for the arguments."
      ]
    },
    {
      "cell_type": "code",
      "metadata": {
        "colab": {
          "base_uri": "https://localhost:8080/"
        },
        "id": "jIAlNZDsMxhf",
        "outputId": "cd7d234e-acd5-4046-ff3f-9e4e1ff5b8a1"
      },
      "source": [
        "def add(a=5, b=10):\r\n",
        "  return a+b\r\n",
        "\r\n",
        "sum = add()\r\n",
        "print('addition is = :', sum)\r\n",
        "\r\n",
        "\r\n",
        "sum = add(a=10)\r\n",
        "print('addition is = :', sum)\r\n",
        "\r\n",
        "\r\n",
        "sum = add(10,20)\r\n",
        "print('addition is = :', sum)\r\n"
      ],
      "execution_count": 139,
      "outputs": [
        {
          "output_type": "stream",
          "text": [
            "addition is = : 15\n",
            "addition is = : 20\n",
            "addition is = : 30\n"
          ],
          "name": "stdout"
        }
      ]
    },
    {
      "cell_type": "markdown",
      "metadata": {
        "id": "uoxwwhl-WGog"
      },
      "source": [
        "# 9) \\*args and **kwargs\r\n",
        "\r\n",
        "*   **\\*args** is used to pass variable length of arguments to the function.\r\n",
        "*   It act as a tuple.\r\n",
        "*   **\\*\\*kwargs** is used pass variable length of key value paire of arguments.\r\n",
        "*   It acts as dictionry."
      ]
    },
    {
      "cell_type": "code",
      "metadata": {
        "colab": {
          "base_uri": "https://localhost:8080/"
        },
        "id": "X36FoVDDVNhB",
        "outputId": "b88bf2b6-a422-482d-cb8f-660491a22008"
      },
      "source": [
        "# *arg\r\n",
        "\r\n",
        "def add(*args):\r\n",
        "  sum = 0\r\n",
        "  for i in args:\r\n",
        "    sum+=i\r\n",
        "  return sum\r\n",
        "\r\n",
        "sum = add(5, 10, 15, 20)\r\n",
        "print('addition is = :', sum)\r\n",
        "\r\n",
        "sum = add(1,2,3,4,5,6)\r\n",
        "print('addition is = :', sum)\r\n",
        "\r\n"
      ],
      "execution_count": 140,
      "outputs": [
        {
          "output_type": "stream",
          "text": [
            "addition is = : 50\n",
            "addition is = : 21\n"
          ],
          "name": "stdout"
        }
      ]
    },
    {
      "cell_type": "code",
      "metadata": {
        "colab": {
          "base_uri": "https://localhost:8080/"
        },
        "id": "f8lAk2khW5tI",
        "outputId": "2671a813-68bf-4272-9c83-cd8f8740d123"
      },
      "source": [
        "def info(**kwargs):\r\n",
        "  for key, value in kwargs.items():\r\n",
        "    print('key : ',key,', value : ',value)\r\n",
        "\r\n",
        "info(name='swapnil', age=23)\r\n",
        "\r\n",
        "# d = {'name':'swapnil', 'age':23, 'rll_no':12}\r\n",
        "print()\r\n",
        "info(name='swapnil', age=23, rll_no=12)"
      ],
      "execution_count": 141,
      "outputs": [
        {
          "output_type": "stream",
          "text": [
            "key :  name , value :  swapnil\n",
            "key :  age , value :  23\n",
            "\n",
            "key :  name , value :  swapnil\n",
            "key :  age , value :  23\n",
            "key :  rll_no , value :  12\n"
          ],
          "name": "stdout"
        }
      ]
    },
    {
      "cell_type": "markdown",
      "metadata": {
        "id": "rnPdWYx0SuR5"
      },
      "source": [
        "# 10) GLOBAL VS LOCAL VARIABLE\r\n",
        "\r\n",
        "*   **Global** can be access through out the python code.\r\n",
        "*   **Local** can be access only for that perticular block of code.\r\n"
      ]
    },
    {
      "cell_type": "code",
      "metadata": {
        "colab": {
          "base_uri": "https://localhost:8080/"
        },
        "id": "I9iLKow6YpYi",
        "outputId": "da0fa17c-f1dc-42a6-c11c-449aae5a3e63"
      },
      "source": [
        "x = 10  # global\r\n",
        "\r\n",
        "def a():\r\n",
        "  x=20  # local\r\n",
        "  print('value of x inside function = ', x)\r\n",
        "\r\n",
        "a()\r\n",
        "print('value of x outside function = ', x)"
      ],
      "execution_count": 142,
      "outputs": [
        {
          "output_type": "stream",
          "text": [
            "value of x inside function =  20\n",
            "value of x outside function =  10\n"
          ],
          "name": "stdout"
        }
      ]
    },
    {
      "cell_type": "markdown",
      "metadata": {
        "id": "1bqf7Uf1Tro-"
      },
      "source": [
        "11) ANANOMUS FUNCTION (lambda function)\r\n",
        "\r\n",
        "*   **lambda** keyword is used to create **ananomus function**.\r\n",
        "*   In **lambda** function we can use **map()** and **filter()** function."
      ]
    },
    {
      "cell_type": "code",
      "metadata": {
        "colab": {
          "base_uri": "https://localhost:8080/"
        },
        "id": "wfj0lnItTiRm",
        "outputId": "2bdd56be-8540-4da2-afed-57bf4449b6e6"
      },
      "source": [
        "square = lambda x:x*x\r\n",
        "square(2)"
      ],
      "execution_count": 143,
      "outputs": [
        {
          "output_type": "execute_result",
          "data": {
            "text/plain": [
              "4"
            ]
          },
          "metadata": {
            "tags": []
          },
          "execution_count": 143
        }
      ]
    },
    {
      "cell_type": "markdown",
      "metadata": {
        "id": "G3K9QfUgUu3e"
      },
      "source": [
        "## 1) filter"
      ]
    },
    {
      "cell_type": "code",
      "metadata": {
        "colab": {
          "base_uri": "https://localhost:8080/"
        },
        "id": "yJEwr87QUmgd",
        "outputId": "7d27d44a-ff85-4f07-f714-2f945745f01c"
      },
      "source": [
        "# filter even numbers.\r\n",
        "\r\n",
        "a = [1,2,3,4,5,6,7,8,9,10]\r\n",
        "\r\n",
        "a\r\n",
        "even = list(filter(lambda x:x%2==0, a))\r\n",
        "print(even)"
      ],
      "execution_count": 144,
      "outputs": [
        {
          "output_type": "stream",
          "text": [
            "[2, 4, 6, 8, 10]\n"
          ],
          "name": "stdout"
        }
      ]
    },
    {
      "cell_type": "code",
      "metadata": {
        "colab": {
          "base_uri": "https://localhost:8080/",
          "height": 35
        },
        "id": "ChcrEYmTVEVU",
        "outputId": "af1d1250-371f-415f-b30d-730c6cfc9415"
      },
      "source": [
        "l2 = lambda x:'even' if x%2==0 else 'odd'\r\n",
        "l2(4)"
      ],
      "execution_count": 145,
      "outputs": [
        {
          "output_type": "execute_result",
          "data": {
            "application/vnd.google.colaboratory.intrinsic+json": {
              "type": "string"
            },
            "text/plain": [
              "'even'"
            ]
          },
          "metadata": {
            "tags": []
          },
          "execution_count": 145
        }
      ]
    },
    {
      "cell_type": "code",
      "metadata": {
        "colab": {
          "base_uri": "https://localhost:8080/"
        },
        "id": "zVZVZ7oGVWqu",
        "outputId": "52d0c421-6107-4a0f-c6eb-c5536f015fa4"
      },
      "source": [
        "# map\r\n",
        "\r\n",
        "a = [1,2,3,4,5,6,7,8,9,10]\r\n",
        "sqre = list(map(lambda x:x*x,a))\r\n",
        "print(sqre)"
      ],
      "execution_count": 146,
      "outputs": [
        {
          "output_type": "stream",
          "text": [
            "[1, 4, 9, 16, 25, 36, 49, 64, 81, 100]\n"
          ],
          "name": "stdout"
        }
      ]
    },
    {
      "cell_type": "code",
      "metadata": {
        "colab": {
          "base_uri": "https://localhost:8080/"
        },
        "id": "6YLqIJ-tV1jj",
        "outputId": "3f4ce726-1892-4cd5-fc1d-a089ee2c6cef"
      },
      "source": [
        "def square(n):\r\n",
        "  return n*n\r\n",
        "\r\n",
        "l=[2,3,4,5]\r\n",
        "result = list(map(square, l))\r\n",
        "result"
      ],
      "execution_count": 147,
      "outputs": [
        {
          "output_type": "execute_result",
          "data": {
            "text/plain": [
              "[4, 9, 16, 25]"
            ]
          },
          "metadata": {
            "tags": []
          },
          "execution_count": 147
        }
      ]
    },
    {
      "cell_type": "code",
      "metadata": {
        "id": "b00m8XhGV9YY"
      },
      "source": [
        ""
      ],
      "execution_count": 147,
      "outputs": []
    }
  ]
}